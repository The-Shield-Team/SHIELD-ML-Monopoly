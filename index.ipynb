{
  "cells": [
    {
      "cell_type": "markdown",
      "metadata": {
        "id": "1_uzZv_A24AG"
      },
      "source": [
        "<h1><center>Plantilla CRISP-DM: \"Monopoly Bank Dataset\"</center></h1> \n",
        "<video src=\"Designer.mp4\" width=\"100%\" height=\"300\" title=\"Title\" autoplay muted loop></video>\n",
        "\n",
        "### **Equipo: The Shield**\n",
        "\n",
        "**Integrantes:** \n",
        "* Cristian Contreras\n",
        "* Nicolas Dávila\n",
        "* Alejandro Ferrera\n",
        "\n",
        "**Docente:**     CHRISTIAN MANUEL ALVAREZ CARREÑO"
      ]
    },
    {
      "cell_type": "markdown",
      "metadata": {
        "id": "wQ2GvGhUIoVU"
      },
      "source": [
        "| Variable       | Transformación           | Valor    | Descripción                                                   |\n",
        "|----------------|--------------------------|----------|---------------------------------------------------------------|\n",
        "| CORRELATIVO    | Ninguna                  | 518050   | Identificador cliente                                        |\n",
        "| Region         | Ninguna                  | 13       | Región de Residencia                                         |\n",
        "| Renta          | Ninguna                  | NULL     | Renta del cliente                                            |\n",
        "| Sexo           | Ninguna                  | M        | Sexo                                                         |\n",
        "| Subsegmento    | Ninguna                  | 151      | Subsegmento                                                  |\n",
        "| Edad           | Ninguna                  | 39       | Edad                                                         |\n",
        "| Adicional      | Ninguna                  | 0        | Indicador de Tenencia de TC adicionales                      |\n",
        "| Antiguedad     | Ninguna                  | 78       | Antigüedad del cliente (meses)                               |\n",
        "| CambioPin      | Ninguna                  | NULL     | Indicador del cambio de clave secreta de la tarjeta          |\n",
        "| Consumo        | Ninguna                  | 0        | Indicador de Crédito de Consumo                              |\n",
        "| Debito         | Ninguna                  | 1        | Indicador de Tenencia de TD                                  |\n",
        "| Ctacte         | Ninguna                  | 1        | Indicador de Cuenta Corriente                                |\n",
        "| Cuentas        | Ninguna                  | 1        | Número de cuentas que tiene el cliente                       |\n",
        "| Hipotecario    | Ninguna                  | 0        | Indicador de Crédito Hipotecario                            |\n",
        "| Internauta     | Ninguna                  | 1        | Indicador de cliente Internauta que usa la web Monopoly     |\n",
        "| Monoproducto   | Ninguna                  | 0        | Indicador de si el cliente es solo poseedor de una TC       |\n",
        "| TC             | Ninguna                  | 1        | Número de TC que tiene el cliente                           |\n",
        "| Dualidad       | Ninguna                  | 0        | Indicador de Dualidad (Cliente es dual si tiene 2 o más TC) |\n",
        "| CUPO_L1        | Ninguna                  | 1800000  | Cupo de la tarjeta crédito para compras nacionales          |\n",
        "| CUPO_MX        | Ninguna                  | 3750     | Cupo de la tarjeta crédito para compras internacionales     |\n",
        "| CUPO_L2        | Ninguna                  | 1        | Cupo de la tarjeta crédito para avances en cuotas           |\n",
        "| Col_T12        | Promedio                 | 0        | Colocación del cliente en TC en el mes X                    |\n",
        "| ColL1TE_T12    |                          | 0        | Revolving del cliente en TC en el mes X                      |\n",
        "| EeccInt_T12    | Promedio                 | 0        | Monto internacional exigido en el estado de cuenta en el mes X del cliente |\n",
        "| EeccNac_T12    | Promedio                 | -12178   | Monto nacional exigido en el estado de cuenta en el mes X del cliente |\n",
        "| Fac_T12        | Promedio                 | 0        | Monto facturado por el cliente en TC en el mes X            |\n",
        "| FacAI_T12      | Promedio                 | 0        | Monto facturado en avances internacionales por el cliente en TC en el mes X |\n",
        "| FacAN_T12      | Promedio                 | 0        | Monto facturado en avances nacionales por el cliente en TC en el mes X |\n",
        "| FacCCOT_T12    | Promedio                 | 0        | Monto facturado en compras en cuotas con tasa por el cliente en TC en el mes X |\n",
        "| FacCCPC_T12    | Promedio                 | 0        | Monto facturado en compras en cuotas precio contado por el cliente en TC en el mes X |\n",
        "| FacCI_T12      | Promedio                 | 0        | Monto facturado en compras internacionales por el cliente en TC en el mes X |\n",
        "| FacCN_T12      | Promedio                 | 0        | Monto facturado en compras nacionales por el cliente en TC en el mes X |\n",
        "| FacCOL_T12     | Promedio                 | 0        | Monto facturado en avances en cuotas por el cliente en TC en el mes X |\n",
        "| FacDebAtm_T12  | Promedio                 | 800000   | Monto facturado en avances por el cliente en TD en el mes X  |\n",
        "| ...            | ...                      | ...      | ...                                                           |\n",
        "| Txs_T12        | Suma                     | 0        | Número de transacciones realizados por el cliente en TC en el mes X |\n",
        "| TxsAI_T12      | Suma                     | 0        | Número de transacciones en avances internacionales realizados por el cliente en TC en el mes X |\n",
        "| TxsAN_T12      | Suma                     | 0        | Número de transacciones en avances nacionales realizados por el cliente en TC en el mes X |\n",
        "| TxsCCOT_T12    | Suma                     | 0        | Número de transacciones en compras en cuotas con tasa realizados por el cliente en TC en el mes X |\n",
        "| TxsCCPC_T12    | Suma                     | 0        | Número de transacciones en compras en cuotas precio contado realizados por el cliente en TC en el mes X |\n",
        "| TxsCI_T12      | Suma                     | 0        | Número de transacciones en compras internacionales realizados por el cliente en TC en el mes X |\n",
        "| TxsCN_T12      | Suma                     | 0        | Número de transacciones en compras nacionales realizados por el cliente en TC en el mes X |\n",
        "| TxsCOL_T12     | Suma                     | 0        | Número de transacciones en avances en cuotas por el cliente en TC en el mes X |\n",
        "| TxsDebAtm_T12  | Suma                     | 5        | Número de transacciones en avances realizados por el cliente en TD en el mes X |\n",
        "| ...            | ...                      | ...      | ...                                                           |\n",
        "| UsoLI_T12      | Promedio                 | 0        | Monto de deuda en la línea de compras internacionales en la TC en el mes X |\n"
      ]
    },
    {
      "cell_type": "markdown",
      "metadata": {
        "id": "4A4gycH0KmTH"
      },
      "source": [
        "## Fase 1: Business Understanding "
      ]
    },
    {
      "attachments": {},
      "cell_type": "markdown",
      "metadata": {},
      "source": [
        "Etapa de Entendimiento del Negocio (Business Understanding)\n",
        "\n",
        "Objetivos del Proyecto\n",
        "\n",
        "El objetivo general del proyecto es utilizar técnicas de machine learning para identificar y predecir ciertos comportamientos de los clientes del \"Monopoly Bank\". El banco busca aprovechar los datos disponibles en el conjunto de datos del CSV para obtener información valiosa que les permita mejorar sus operaciones, servicios y toma de decisiones.\n",
        "\n",
        "\n",
        "Objetivos Específicos\n",
        "\n",
        "- Identificar patrones y relaciones en los datos de los clientes para entender mejor su comportamiento financiero y preferencias.\n",
        "- Desarrollar modelos de machine learning que permitan predecir comportamientos clave de los clientes, como pagos, transacciones y uso de productos.\n",
        "- Evaluar la importancia de las diferentes variables en la predicción de los comportamientos de los clientes.\n",
        "- Proporcionar recomendaciones basadas en el análisis de datos para mejorar la retención de clientes y la satisfacción.\n",
        "\n",
        "\n",
        "Descripción de los Datos\n",
        "\n",
        "Los datos se encuentran en un archivo CSV que contiene múltiples columnas con información sobre los clientes del \"Monopoly Bank\". Cada fila representa un cliente individual y sus respectivos atributos. Los atributos incluyen información demográfica, histórico de transacciones, comportamiento crediticio y uso de productos financieros.\n",
        "\n",
        "\n",
        "Preguntas Clave\n",
        "\n",
        "- ¿Qué tipos de comportamientos específicos de los clientes espera identificar y predecir el \"Monopoly Bank\"?\n",
        "- ¿El banco tiene alguna idea preconcebida sobre las variables más influyentes en los comportamientos de los clientes?\n",
        "- ¿Hay algún objetivo específico en términos de precisión o métricas de rendimiento para los modelos de machine learning?\n",
        "- ¿Existe alguna restricción ética o legal en el uso de los datos para el análisis y la toma de decisiones?\n",
        "\n",
        "\n",
        "Recursos\n",
        "\n",
        "- Conjunto de datos en formato CSV proporcionado por el \"Monopoly Bank\".\n",
        "- Expertos en el dominio financiero y bancario dentro del equipo del proyecto.\n",
        "- Herramientas de análisis y visualización de datos para explorar y comprender mejor los patrones en los datos.\n",
        "- Salidas Esperadas\n",
        "- Documento de entendimiento del negocio que detalla los objetivos, los requisitos y las expectativas del proyecto.\n",
        "- Preguntas clave adicionales que deben abordarse en las siguientes etapas.\n",
        "- Lista preliminar de variables que podrían ser relevantes para el análisis y la predicción de comportamientos de los clientes.\n",
        "- Esta etapa es crucial para establecer una base sólida antes de pasar a la siguiente fase de \"Comprensión de los Datos\" (Data Understanding), donde exploraremos más a fondo el conjunto de datos y sus características."
      ]
    },
    {
      "cell_type": "markdown",
      "metadata": {},
      "source": [
        "### Carga de dataset y dependencias"
      ]
    },
    {
      "cell_type": "code",
      "execution_count": 120,
      "metadata": {
        "id": "JE0PhA0QAzVa"
      },
      "outputs": [
        {
          "data": {
            "text/html": [
              "<div>\n",
              "<style scoped>\n",
              "    .dataframe tbody tr th:only-of-type {\n",
              "        vertical-align: middle;\n",
              "    }\n",
              "\n",
              "    .dataframe tbody tr th {\n",
              "        vertical-align: top;\n",
              "    }\n",
              "\n",
              "    .dataframe thead th {\n",
              "        text-align: right;\n",
              "    }\n",
              "</style>\n",
              "<table border=\"1\" class=\"dataframe\">\n",
              "  <thead>\n",
              "    <tr style=\"text-align: right;\">\n",
              "      <th></th>\n",
              "      <th>Id</th>\n",
              "      <th>Subsegmento</th>\n",
              "      <th>Sexo</th>\n",
              "      <th>Region</th>\n",
              "      <th>Edad</th>\n",
              "      <th>Renta</th>\n",
              "      <th>Antiguedad</th>\n",
              "      <th>Internauta</th>\n",
              "      <th>Adicional</th>\n",
              "      <th>Dualidad</th>\n",
              "      <th>...</th>\n",
              "      <th>ColMx_T01</th>\n",
              "      <th>PagoNac_T01</th>\n",
              "      <th>PagoInt_T01</th>\n",
              "      <th>EeccNac_T01</th>\n",
              "      <th>EeccInt_T01</th>\n",
              "      <th>UsoL1_T01</th>\n",
              "      <th>UsoL2_T01</th>\n",
              "      <th>UsoLI_T01</th>\n",
              "      <th>IndRev_T01</th>\n",
              "      <th>target</th>\n",
              "    </tr>\n",
              "  </thead>\n",
              "  <tbody>\n",
              "    <tr>\n",
              "      <th>0</th>\n",
              "      <td>1</td>\n",
              "      <td>160</td>\n",
              "      <td>M</td>\n",
              "      <td>13.0</td>\n",
              "      <td>43</td>\n",
              "      <td>NaN</td>\n",
              "      <td>130</td>\n",
              "      <td>1</td>\n",
              "      <td>1</td>\n",
              "      <td>0</td>\n",
              "      <td>...</td>\n",
              "      <td>0</td>\n",
              "      <td>33000</td>\n",
              "      <td>0</td>\n",
              "      <td>1099866</td>\n",
              "      <td>0</td>\n",
              "      <td>1099866</td>\n",
              "      <td>15080</td>\n",
              "      <td>0</td>\n",
              "      <td>R</td>\n",
              "      <td>0</td>\n",
              "    </tr>\n",
              "    <tr>\n",
              "      <th>1</th>\n",
              "      <td>2</td>\n",
              "      <td>160</td>\n",
              "      <td>H</td>\n",
              "      <td>13.0</td>\n",
              "      <td>46</td>\n",
              "      <td>143640</td>\n",
              "      <td>69</td>\n",
              "      <td>1</td>\n",
              "      <td>0</td>\n",
              "      <td>0</td>\n",
              "      <td>...</td>\n",
              "      <td>0</td>\n",
              "      <td>300000</td>\n",
              "      <td>0</td>\n",
              "      <td>214592</td>\n",
              "      <td>0</td>\n",
              "      <td>214592</td>\n",
              "      <td>83596</td>\n",
              "      <td>0</td>\n",
              "      <td>R</td>\n",
              "      <td>0</td>\n",
              "    </tr>\n",
              "    <tr>\n",
              "      <th>2</th>\n",
              "      <td>3</td>\n",
              "      <td>170</td>\n",
              "      <td>H</td>\n",
              "      <td>13.0</td>\n",
              "      <td>45</td>\n",
              "      <td>929106</td>\n",
              "      <td>24</td>\n",
              "      <td>1</td>\n",
              "      <td>1</td>\n",
              "      <td>0</td>\n",
              "      <td>...</td>\n",
              "      <td>0</td>\n",
              "      <td>216676</td>\n",
              "      <td>0</td>\n",
              "      <td>0</td>\n",
              "      <td>0</td>\n",
              "      <td>7400</td>\n",
              "      <td>0</td>\n",
              "      <td>0</td>\n",
              "      <td>T</td>\n",
              "      <td>0</td>\n",
              "    </tr>\n",
              "    <tr>\n",
              "      <th>3</th>\n",
              "      <td>4</td>\n",
              "      <td>151</td>\n",
              "      <td>H</td>\n",
              "      <td>13.0</td>\n",
              "      <td>46</td>\n",
              "      <td>172447</td>\n",
              "      <td>134</td>\n",
              "      <td>0</td>\n",
              "      <td>1</td>\n",
              "      <td>0</td>\n",
              "      <td>...</td>\n",
              "      <td>0</td>\n",
              "      <td>60000</td>\n",
              "      <td>0</td>\n",
              "      <td>272762</td>\n",
              "      <td>0</td>\n",
              "      <td>272762</td>\n",
              "      <td>10591</td>\n",
              "      <td>0</td>\n",
              "      <td>R</td>\n",
              "      <td>0</td>\n",
              "    </tr>\n",
              "    <tr>\n",
              "      <th>4</th>\n",
              "      <td>5</td>\n",
              "      <td>170</td>\n",
              "      <td>H</td>\n",
              "      <td>13.0</td>\n",
              "      <td>46</td>\n",
              "      <td>805250</td>\n",
              "      <td>116</td>\n",
              "      <td>0</td>\n",
              "      <td>1</td>\n",
              "      <td>1</td>\n",
              "      <td>...</td>\n",
              "      <td>0</td>\n",
              "      <td>272925</td>\n",
              "      <td>0</td>\n",
              "      <td>249562</td>\n",
              "      <td>0</td>\n",
              "      <td>75339</td>\n",
              "      <td>377782</td>\n",
              "      <td>0</td>\n",
              "      <td>R</td>\n",
              "      <td>0</td>\n",
              "    </tr>\n",
              "  </tbody>\n",
              "</table>\n",
              "<p>5 rows × 574 columns</p>\n",
              "</div>"
            ],
            "text/plain": [
              "   Id  Subsegmento Sexo  Region  Edad   Renta  Antiguedad  Internauta  \\\n",
              "0   1          160    M    13.0    43     NaN         130           1   \n",
              "1   2          160    H    13.0    46  143640          69           1   \n",
              "2   3          170    H    13.0    45  929106          24           1   \n",
              "3   4          151    H    13.0    46  172447         134           0   \n",
              "4   5          170    H    13.0    46  805250         116           0   \n",
              "\n",
              "   Adicional  Dualidad  ...  ColMx_T01  PagoNac_T01  PagoInt_T01  EeccNac_T01  \\\n",
              "0          1         0  ...          0        33000            0      1099866   \n",
              "1          0         0  ...          0       300000            0       214592   \n",
              "2          1         0  ...          0       216676            0            0   \n",
              "3          1         0  ...          0        60000            0       272762   \n",
              "4          1         1  ...          0       272925            0       249562   \n",
              "\n",
              "   EeccInt_T01  UsoL1_T01  UsoL2_T01  UsoLI_T01  IndRev_T01 target  \n",
              "0            0    1099866      15080          0           R      0  \n",
              "1            0     214592      83596          0           R      0  \n",
              "2            0       7400          0          0           T      0  \n",
              "3            0     272762      10591          0           R      0  \n",
              "4            0      75339     377782          0           R      0  \n",
              "\n",
              "[5 rows x 574 columns]"
            ]
          },
          "execution_count": 120,
          "metadata": {},
          "output_type": "execute_result"
        }
      ],
      "source": [
        "import pandas as pd\n",
        "import numpy as np\n",
        "import matplotlib.pyplot as plt\n",
        "import seaborn as sns\n",
        "\n",
        "#Carga de dataset\n",
        "\n",
        "df = pd.read_csv('Base_clientes_Monopoly.csv', sep=';', low_memory=False)\n",
        "df.head()"
      ]
    },
    {
      "cell_type": "markdown",
      "metadata": {
        "id": "0XinrQvBK1D7"
      },
      "source": [
        "## Fase 2: Data Understanding "
      ]
    },
    {
      "cell_type": "markdown",
      "metadata": {},
      "source": [
        "### Tipos de datos\n",
        "\n",
        "1. Para una mejor visualización y entendimiento del dataset lo acotaremos a 67 columnas, ya que la repetición de la información para el mes X no tiene mucha para esta primera fase."
      ]
    },
    {
      "cell_type": "code",
      "execution_count": 121,
      "metadata": {},
      "outputs": [
        {
          "name": "stdout",
          "output_type": "stream",
          "text": [
            "Última columna del dataset luego del acotamiento -> IndRev_T12\n"
          ]
        }
      ],
      "source": [
        "#Dejar el df con solo las primeras 67 columnas\n",
        "df_business_understanding = df.iloc[:,0:67]\n",
        "print(f\"Última columna del dataset luego del acotamiento -> {df_business_understanding.columns[-1]}\")"
      ]
    },
    {
      "cell_type": "markdown",
      "metadata": {},
      "source": [
        "2. Analizar los tipos de datos de cada columna"
      ]
    },
    {
      "cell_type": "code",
      "execution_count": 122,
      "metadata": {},
      "outputs": [
        {
          "data": {
            "image/png": "[encoded data removed]",
            "text/plain": [
              "<Figure size 400x500 with 1 Axes>"
            ]
          },
          "metadata": {},
          "output_type": "display_data"
        }
      ],
      "source": [
        "data_types_counts = df.dtypes.value_counts()\n",
        "\n",
        "plt.figure(figsize=(4, 5))\n",
        "ax = data_types_counts.plot(kind='bar', rot=0, color='purple')\n",
        "\n",
        "for p in ax.patches:\n",
        "    ax.annotate(str(p.get_height()), (p.get_x() + p.get_width() / 2., p.get_height()),\n",
        "                ha='center', va='center', xytext=(0, 5), textcoords='offset points')\n",
        "\n",
        "plt.xlabel('Tipo de Dato')\n",
        "plt.ylabel('Cantidad')\n",
        "plt.title('Cantidad de cada Tipo de Dato en el DataFrame')\n",
        "plt.show()"
      ]
    },
    {
      "cell_type": "markdown",
      "metadata": {},
      "source": [
        "**Recomendación**: Transformar las variables de tipo object a un tipo de dato más adecuado para su análisis."
      ]
    },
    {
      "cell_type": "markdown",
      "metadata": {},
      "source": [
        "3. Búsqueda de valores nulos"
      ]
    },
    {
      "cell_type": "code",
      "execution_count": 150,
      "metadata": {},
      "outputs": [
        {
          "data": {
            "text/plain": [
              "Sexo              0.001956\n",
              "TxsCCOT_T03       0.019560\n",
              "FacCOL_T03        0.019560\n",
              "TxsCOL_T03        0.019560\n",
              "FacDebCom_T03     0.019560\n",
              "                   ...    \n",
              "FacCCOT_T12      16.139191\n",
              "ColL2AC_T12      16.139191\n",
              "TxsDebAtm_T12    16.139191\n",
              "Renta            26.142321\n",
              "CambioPin        37.923480\n",
              "Length: 510, dtype: float64"
            ]
          },
          "execution_count": 150,
          "metadata": {},
          "output_type": "execute_result"
        }
      ],
      "source": [
        "#Saber porcentaje de valores nulos por columna\n",
        "null_counts = df.isnull().sum()\n",
        "null_counts[null_counts > 0].sort_values(ascending=True) / df.shape[0] * 100"
      ]
    },
    {
      "cell_type": "code",
      "execution_count": 124,
      "metadata": {},
      "outputs": [
        {
          "name": "stdout",
          "output_type": "stream",
          "text": [
            "Valores únicos de la columna CambioPin -> [nan, 1.0]\n"
          ]
        }
      ],
      "source": [
        "unique_values_cambio_pin = df['CambioPin'].unique().tolist()\n",
        "\n",
        "print(f\"Valores únicos de la columna CambioPin -> {unique_values_cambio_pin}\")"
      ]
    },
    {
      "cell_type": "markdown",
      "metadata": {},
      "source": [
        "La columna CambioPin tiene un 37% de valores nulos, pero solo tiene NULL y 1, por lo que se puede asumir que el valor nulo es 0 (False), indicaría que el cliente no ha cambiado su clave secreta de la tarjeta.\n",
        "\n",
        "**Recomendación**: Eliminar la columna CambioPin si no es relevante para la predicción que se vaya a realizar o reemplazar los valores nulos por 0."
      ]
    },
    {
      "cell_type": "code",
      "execution_count": 125,
      "metadata": {},
      "outputs": [
        {
          "name": "stdout",
          "output_type": "stream",
          "text": [
            "Valores nulos de la columna Renta -> 13365\n",
            "Tipo de dato de la columna Renta -> object\n"
          ]
        }
      ],
      "source": [
        "null_values_renta = df['Renta'].isna().sum()\n",
        "data_type_renta = df['Renta'].dtype\n",
        "\n",
        "print(f\"Valores nulos de la columna Renta -> {null_values_renta}\")\n",
        "print(f\"Tipo de dato de la columna Renta -> {data_type_renta}\")"
      ]
    },
    {
      "cell_type": "markdown",
      "metadata": {},
      "source": [
        "**Recomendación**: La columna renta tiene 13365 valores nulos (26.14%), teniendo en cuenta que es una variable numérica continua, se recomienda realizar una imputación de datos, podría utilizarse KNNImputer o MICE. Además se debe castear a algún tipo de dato válido como int o float."
      ]
    },
    {
      "cell_type": "code",
      "execution_count": 149,
      "metadata": {},
      "outputs": [
        {
          "name": "stdout",
          "output_type": "stream",
          "text": [
            "Cantidad de valores nulos de la columna Sexo -> 1\n",
            "Tipo de dato de la columna Sexo -> object\n"
          ]
        }
      ],
      "source": [
        "null_values_sex = df['Sexo'].isna().sum()\n",
        "data_type_sex = df['Sexo'].dtype\n",
        "print(f\"Cantidad de valores nulos de la columna Sexo -> {null_values_sex}\")\n",
        "print(f\"Tipo de dato de la columna Sexo -> {data_type_sex}\")"
      ]
    },
    {
      "cell_type": "markdown",
      "metadata": {},
      "source": [
        "**Recomendación**: La columna Sexo solo tiene 1 valor nulo, se recomienda eliminar la fila o reemplazar el valor nulo por el valor más frecuente (Moda). Además, se debería castear a categoría y realizar un one-hot encoding."
      ]
    },
    {
      "cell_type": "code",
      "execution_count": 152,
      "metadata": {},
      "outputs": [
        {
          "name": "stdout",
          "output_type": "stream",
          "text": [
            "Cantidad de valores nulos de la columna Region -> 53\n",
            "Tipo de dato de la columna Region -> float64\n"
          ]
        }
      ],
      "source": [
        "null_values_region = df['Region'].isna().sum()\n",
        "data_type_region = df['Region'].dtype\n",
        "\n",
        "print(f\"Cantidad de valores nulos de la columna Region -> {null_values_region}\")\n",
        "print(f\"Tipo de dato de la columna Region -> {data_type_region}\")"
      ]
    },
    {
      "cell_type": "markdown",
      "metadata": {},
      "source": [
        "**Recomendación**: La columna región tiene 53 valores nulos, se recomienda eliminar la columna si no va a ser relevante para la predicción o reemplazar los valores nulos por el valor más frecuente (Moda) o usar otro tipo de imputación para variable categórica nominal, también sería quizás viable eliminar las filas ya que representan poco % del dataset."
      ]
    },
    {
      "cell_type": "code",
      "execution_count": 153,
      "metadata": {},
      "outputs": [
        {
          "data": {
            "text/plain": [
              "Dualidad        0.37945\n",
              "Monoproducto    0.37945\n",
              "TC              0.37945\n",
              "dtype: float64"
            ]
          },
          "execution_count": 153,
          "metadata": {},
          "output_type": "execute_result"
        }
      ],
      "source": [
        "#Mapa de calor entre la variable \"Dualidad\", \"Monoproducto\" y \"TC\" \n",
        "\n",
        "df_heatmap = df[['Dualidad', 'Monoproducto', 'TC']]\n",
        "\n",
        "#Matriz de correlación con mapa de calor\n",
        "\n",
        "df_heatmap.head(10)\n",
        "\n",
        "df_heatmap.query('Dualidad > 0 and TC > 1').count()\n",
        "\n",
        "cantidad = df_heatmap.query('Dualidad > 0 and TC > 1').count()\n",
        "\n",
        "accuaracy = cantidad / df_heatmap.shape[0]\n",
        "\n",
        "accuaracy\n",
        "\n",
        "#Recomendación: Elimnar la columna \"Dualidad\" y \"Monoproducto\" ya que deberían estar entregando información similar a la variable \"TC\""
      ]
    },
    {
      "cell_type": "code",
      "execution_count": 127,
      "metadata": {
        "id": "C3WMByhCLpTr"
      },
      "outputs": [
        {
          "data": {
            "text/plain": [
              "0        1\n",
              "1        1\n",
              "2        1\n",
              "3        1\n",
              "4        2\n",
              "        ..\n",
              "51119    2\n",
              "51120    1\n",
              "51121    1\n",
              "51122    1\n",
              "51123    1\n",
              "Name: Cuentas, Length: 51124, dtype: int64"
            ]
          },
          "execution_count": 127,
          "metadata": {},
          "output_type": "execute_result"
        }
      ],
      "source": [
        "# Insertar cuantos bloques de código consideren necesarios\n",
        "\n",
        "# Se recomienda obtener estadísticos descriptivos para apoyar hipótesis inferenciales. \n",
        "# Reconocer la naturaleza de los datos y como tratarlos en etapas posteriores y dar ideas de como se podría transformar.\n",
        "# Identificar MissingValues, outliers, medidas de posición, medidas de dispersión etc.\n",
        "\n",
        "\n",
        "\n",
        "df['Cuentas']\n"
      ]
    },
    {
      "cell_type": "markdown",
      "metadata": {
        "id": "6Pw3f3A0L6dk"
      },
      "source": [
        "## Fase 3: Data Preparation "
      ]
    },
    {
      "cell_type": "code",
      "execution_count": 128,
      "metadata": {
        "id": "mklB6oEmMHuz"
      },
      "outputs": [],
      "source": [
        "# Insertar cuantos bloques de código consideren necesarios\n",
        "\n",
        "# Se recomienda considerar todas las transformaciones necesarias para obtener la data lo más limpia posible.\n",
        "# Realizar tratamiento a todos los datos que consideren necesarios."
      ]
    },
    {
      "cell_type": "markdown",
      "metadata": {
        "id": "SmI1A3MTHk-g"
      },
      "source": [
        "## Fase 4: Modeling"
      ]
    },
    {
      "cell_type": "markdown",
      "metadata": {
        "id": "ykm_OvKfeF_-"
      },
      "source": [
        "### Regresión"
      ]
    },
    {
      "cell_type": "code",
      "execution_count": 129,
      "metadata": {
        "id": "kEotGNEqHrbD"
      },
      "outputs": [],
      "source": [
        "# Insertar cuantos bloques de código consideren necesarios\n",
        "\n",
        "# Realizar tarea de regresión de datos orientado al caso entregado"
      ]
    },
    {
      "cell_type": "markdown",
      "metadata": {
        "id": "X44ibsqteJZg"
      },
      "source": [
        "### Clasificación\n",
        "\n"
      ]
    },
    {
      "cell_type": "code",
      "execution_count": 130,
      "metadata": {
        "id": "h-yxIDVneQNY"
      },
      "outputs": [],
      "source": [
        "# Insertar cuantos bloques de código consideren necesarios\n",
        "\n",
        "# Realizar tarea de clasificación de datos orientado al caso entregado"
      ]
    },
    {
      "cell_type": "markdown",
      "metadata": {
        "id": "lkFTbqriH1vx"
      },
      "source": [
        "## Fase 5: Evaluation"
      ]
    },
    {
      "cell_type": "code",
      "execution_count": 131,
      "metadata": {
        "id": "t_Dya779H3As"
      },
      "outputs": [],
      "source": [
        "# Insertar cuantos bloques de código consideren necesarios\n",
        "\n",
        "# Evaluar con las métricas que corresponda los mejores modelos, explicar cual es mejor para cada tarea y por qué"
      ]
    },
    {
      "cell_type": "markdown",
      "metadata": {
        "id": "Mo7mbKVRH8y4"
      },
      "source": [
        "## Fase 5: Deployment"
      ]
    },
    {
      "cell_type": "code",
      "execution_count": 132,
      "metadata": {
        "id": "Nx4ot5vyfOSe"
      },
      "outputs": [],
      "source": [
        "# Insertar cuantos bloques de código consideren necesarios\n",
        "\n",
        "# Realizar despliegue del modelo"
      ]
    }
  ],
  "metadata": {
    "colab": {
      "provenance": [],
      "toc_visible": true
    },
    "kernelspec": {
      "display_name": "Python 3",
      "name": "python3"
    },
    "language_info": {
      "codemirror_mode": {
        "name": "ipython",
        "version": 3
      },
      "file_extension": ".py",
      "mimetype": "text/x-python",
      "name": "python",
      "nbconvert_exporter": "python",
      "pygments_lexer": "ipython3",
      "version": "3.10.6"
    }
  },
  "nbformat": 4,
  "nbformat_minor": 0
}

{
  "cells": [
    {
      "cell_type": "markdown",
      "metadata": {
        "id": "1_uzZv_A24AG"
      },
      "source": [
        "<h1><center>Plantilla CRISP-DM: \"Monopoly Bank Dataset\"</center></h1> \n",
        "<video src=\"Designer.mp4\" width=\"100%\" height=\"300\" title=\"Title\" autoplay muted loop></video>\n",
        "\n",
        "### **Equipo: The Shield**\n",
        "\n",
        "**Integrantes:** \n",
        "* Cristian Contreras\n",
        "* Nicolas Dávila\n",
        "* Alejandro Ferrera\n",
        "\n",
        "**Docente:**     CHRISTIAN MANUEL ALVAREZ CARREÑO"
      ]
    },
    {
      "cell_type": "markdown",
      "metadata": {
        "id": "wQ2GvGhUIoVU"
      },
      "source": [
        "| Variable       | Transformación           | Valor    | Descripción                                                   |\n",
        "|----------------|--------------------------|----------|---------------------------------------------------------------|\n",
        "| CORRELATIVO    | Ninguna                  | 518050   | Identificador cliente                                        |\n",
        "| Region         | Ninguna                  | 13       | Región de Residencia                                         |\n",
        "| Renta          | Ninguna                  | NULL     | Renta del cliente                                            |\n",
        "| Sexo           | Ninguna                  | M        | Sexo                                                         |\n",
        "| Subsegmento    | Ninguna                  | 151      | Subsegmento                                                  |\n",
        "| Edad           | Ninguna                  | 39       | Edad                                                         |\n",
        "| Adicional      | Ninguna                  | 0        | Indicador de Tenencia de TC adicionales                      |\n",
        "| Antiguedad     | Ninguna                  | 78       | Antiguedad del cliente (meses)                               |\n",
        "| CambioPin      | Ninguna                  | NULL     | Indicador del cambio de clave secreta de la tarjeta          |\n",
        "| Consumo        | Ninguna                  | 0        | Indicador de Crédito de Consumo                              |\n",
        "| Debito         | Ninguna                  | 1        | Indicador de Tenencia de TD                                  |\n",
        "| Ctacte         | Ninguna                  | 1        | Indicador de Cuenta Corriente                                |\n",
        "| Cuentas        | Ninguna                  | 1        | Número de cuentas que tiene el cliente                       |\n",
        "| Hipotecario    | Ninguna                  | 0        | Indicador de Crédito Hipotecario                            |\n",
        "| Internauta     | Ninguna                  | 1        | Indicador de cliente Internauta que usa la web Monopoly     |\n",
        "| Monoproducto   | Ninguna                  | 0        | Indicador de si el cliente es solo poseedor de una TC       |\n",
        "| TC             | Ninguna                  | 1        | Número de TC que tiene el cliente                           |\n",
        "| Dualidad       | Ninguna                  | 0        | Indicador de Dualidad (Cliente es dual si tiene 2 o más TC) |\n",
        "| CUPO_L1        | Ninguna                  | 1800000  | Cupo de la tarjeta crédito para compras nacionales          |\n",
        "| CUPO_L2        | Ninguna                  | 1        | Cupo de la tarjeta crédito para avances en cuotas           |\n",
        "| CUPO_MX        | Ninguna                  | 3750     | Cupo de la tarjeta crédito para compras internacionales     |\n",
        "| Col_T12        | Promedio                 | 0        | Colocación del cliente en TC en el mes X                    |\n",
        "| ColL1TE_T12    |                          | 0        | Revolving del cliente en TC en el mes X                      |\n",
        "| EeccInt_T12    | Promedio                 | 0        | Monto internacional exigido en el estado de cuenta en el mes X del cliente |\n",
        "| EeccNac_T12    | Promedio                 | -12178   | Monto nacional exigido en el estado de cuenta en el mes X del cliente |\n",
        "| Fac_T12        | Promedio                 | 0        | Monto facturado por el cliente en TC en el mes X            |\n",
        "| FacAI_T12      | Promedio                 | 0        | Monto facturado en avances internacionales por el cliente en TC en el mes X |\n",
        "| FacAN_T12      | Promedio                 | 0        | Monto facturado en avances nacionales por el cliente en TC en el mes X |\n",
        "| FacCCOT_T12    | Promedio                 | 0        | Monto facturado en compras en cuotas con tasa por el cliente en TC en el mes X |\n",
        "| FacCCPC_T12    | Promedio                 | 0        | Monto facturado en compras en cuotas precio contado por el cliente en TC en el mes X |\n",
        "| FacCI_T12      | Promedio                 | 0        | Monto facturado en compras internacionales por el cliente en TC en el mes X |\n",
        "| FacCN_T12      | Promedio                 | 0        | Monto facturado en compras nacionales por el cliente en TC en el mes X |\n",
        "| FacCOL_T12     | Promedio                 | 0        | Monto facturado en avances en cuotas por el cliente en TC en el mes X |\n",
        "| FacDebAtm_T12  | Promedio                 | 800000   | Monto facturado en avances por el cliente en TD en el mes X  |\n",
        "| ...            | ...                      | ...      | ...                                                           |\n",
        "| Txs_T12        | Suma                     | 0        | Número de transacciones realizados por el cliente en TC en el mes X |\n",
        "| TxsAI_T12      | Suma                     | 0        | Número de transacciones en avances internacionales realizados por el cliente en TC en el mes X |\n",
        "| TxsAN_T12      | Suma                     | 0        | Número de transacciones en avances nacionales realizados por el cliente en TC en el mes X |\n",
        "| TxsCCOT_T12    | Suma                     | 0        | Número de transacciones en compras en cuotas con tasa realizados por el cliente en TC en el mes X |\n",
        "| TxsCCPC_T12    | Suma                     | 0        | Número de transacciones en compras en cuotas precio contado realizados por el cliente en TC en el mes X |\n",
        "| TxsCI_T12      | Suma                     | 0        | Número de transacciones en compras internacionales realizados por el cliente en TC en el mes X |\n",
        "| TxsCN_T12      | Suma                     | 0        | Número de transacciones en compras nacionales realizados por el cliente en TC en el mes X |\n",
        "| TxsCOL_T12     | Suma                     | 0        | Número de transacciones en avances en cuotas por el cliente en TC en el mes X |\n",
        "| TxsDebAtm_T12  | Suma                     | 5        | Número de transacciones en avances realizados por el cliente en TD en el mes X |\n",
        "| ...            | ...                      | ...      | ...                                                           |\n",
        "| UsoLI_T12      | Promedio                 | 0        | Monto de deuda en la línea de compras internacionales en la TC en el mes X |\n"
      ]
    },
    {
      "cell_type": "markdown",
      "metadata": {
        "id": "4A4gycH0KmTH"
      },
      "source": [
        "## Fase 1: Business Understanding "
      ]
    },
    {
      "attachments": {},
      "cell_type": "markdown",
      "metadata": {},
      "source": [
        "### Contexto del caso\n",
        "\n",
        "El banco \"Monopoly Bank\" se ha contactado con nosotros como equipo de análisis de datos y modelado de Machine Learning para analizar y realizar modelos predictivos con los datos de los clientes.\n",
        "El objetivo general del proyecto es utilizar técnicas de machine learning para identificar y predecir comportamientos y características de los clientes del banco, buscando aprovechar la información obtenida como una herramienta que les permita mejorar sus operaciones, servicios y toma de decisiones.\n",
        "\n",
        "Para poder dar el mejor apoyo en la toma de decisiones de \"Monopoly Bank\" nos encontramos con desafíos como:\n",
        "- Identificar patrones y relaciones en los datos de los clientes para entender mejor su comportamiento financiero y preferencias.\n",
        "- Desarrollar modelos de machine learning que permitan predecir comportamientos clave de los clientes, como cupo por asignar para alguna tarjeta de crédito o la clasificación de clientes según dichos comportamientos.\n",
        "- Evaluar la importancia de las diferentes variables en la predicción de los comportamientos de los clientes.\n",
        "\n",
        "Para este caso contaremos con recursos como un conjunto de datos en formato CSV proporcionado por \"Monopoly Bank\" con los registros de 51124 clientes, el cual cuenta con 574 columnas de atributos que incluyen información demográfica, histórico de transacciones, comportamiento crediticio y uso de productos financieros. Añadido a esto un iccionario para el entendimiento del negocio según las variables que se manejan del usuario."
      ]
    },
    {
      "cell_type": "markdown",
      "metadata": {},
      "source": [
        "### Carga de dataset y dependencias"
      ]
    },
    {
      "cell_type": "code",
      "execution_count": 1155,
      "metadata": {
        "id": "JE0PhA0QAzVa"
      },
      "outputs": [
        {
          "data": {
            "text/html": [
              "<div>\n",
              "<style scoped>\n",
              "    .dataframe tbody tr th:only-of-type {\n",
              "        vertical-align: middle;\n",
              "    }\n",
              "\n",
              "    .dataframe tbody tr th {\n",
              "        vertical-align: top;\n",
              "    }\n",
              "\n",
              "    .dataframe thead th {\n",
              "        text-align: right;\n",
              "    }\n",
              "</style>\n",
              "<table border=\"1\" class=\"dataframe\">\n",
              "  <thead>\n",
              "    <tr style=\"text-align: right;\">\n",
              "      <th></th>\n",
              "      <th>Id</th>\n",
              "      <th>Subsegmento</th>\n",
              "      <th>Sexo</th>\n",
              "      <th>Region</th>\n",
              "      <th>Edad</th>\n",
              "      <th>Renta</th>\n",
              "      <th>Antiguedad</th>\n",
              "      <th>Internauta</th>\n",
              "      <th>Adicional</th>\n",
              "      <th>Dualidad</th>\n",
              "      <th>...</th>\n",
              "      <th>ColMx_T01</th>\n",
              "      <th>PagoNac_T01</th>\n",
              "      <th>PagoInt_T01</th>\n",
              "      <th>EeccNac_T01</th>\n",
              "      <th>EeccInt_T01</th>\n",
              "      <th>UsoL1_T01</th>\n",
              "      <th>UsoL2_T01</th>\n",
              "      <th>UsoLI_T01</th>\n",
              "      <th>IndRev_T01</th>\n",
              "      <th>target</th>\n",
              "    </tr>\n",
              "  </thead>\n",
              "  <tbody>\n",
              "    <tr>\n",
              "      <th>0</th>\n",
              "      <td>1</td>\n",
              "      <td>160</td>\n",
              "      <td>M</td>\n",
              "      <td>13.0</td>\n",
              "      <td>43</td>\n",
              "      <td>NaN</td>\n",
              "      <td>130</td>\n",
              "      <td>1</td>\n",
              "      <td>1</td>\n",
              "      <td>0</td>\n",
              "      <td>...</td>\n",
              "      <td>0</td>\n",
              "      <td>33000</td>\n",
              "      <td>0</td>\n",
              "      <td>1099866</td>\n",
              "      <td>0</td>\n",
              "      <td>1099866</td>\n",
              "      <td>15080</td>\n",
              "      <td>0</td>\n",
              "      <td>R</td>\n",
              "      <td>0</td>\n",
              "    </tr>\n",
              "    <tr>\n",
              "      <th>1</th>\n",
              "      <td>2</td>\n",
              "      <td>160</td>\n",
              "      <td>H</td>\n",
              "      <td>13.0</td>\n",
              "      <td>46</td>\n",
              "      <td>143640</td>\n",
              "      <td>69</td>\n",
              "      <td>1</td>\n",
              "      <td>0</td>\n",
              "      <td>0</td>\n",
              "      <td>...</td>\n",
              "      <td>0</td>\n",
              "      <td>300000</td>\n",
              "      <td>0</td>\n",
              "      <td>214592</td>\n",
              "      <td>0</td>\n",
              "      <td>214592</td>\n",
              "      <td>83596</td>\n",
              "      <td>0</td>\n",
              "      <td>R</td>\n",
              "      <td>0</td>\n",
              "    </tr>\n",
              "    <tr>\n",
              "      <th>2</th>\n",
              "      <td>3</td>\n",
              "      <td>170</td>\n",
              "      <td>H</td>\n",
              "      <td>13.0</td>\n",
              "      <td>45</td>\n",
              "      <td>929106</td>\n",
              "      <td>24</td>\n",
              "      <td>1</td>\n",
              "      <td>1</td>\n",
              "      <td>0</td>\n",
              "      <td>...</td>\n",
              "      <td>0</td>\n",
              "      <td>216676</td>\n",
              "      <td>0</td>\n",
              "      <td>0</td>\n",
              "      <td>0</td>\n",
              "      <td>7400</td>\n",
              "      <td>0</td>\n",
              "      <td>0</td>\n",
              "      <td>T</td>\n",
              "      <td>0</td>\n",
              "    </tr>\n",
              "    <tr>\n",
              "      <th>3</th>\n",
              "      <td>4</td>\n",
              "      <td>151</td>\n",
              "      <td>H</td>\n",
              "      <td>13.0</td>\n",
              "      <td>46</td>\n",
              "      <td>172447</td>\n",
              "      <td>134</td>\n",
              "      <td>0</td>\n",
              "      <td>1</td>\n",
              "      <td>0</td>\n",
              "      <td>...</td>\n",
              "      <td>0</td>\n",
              "      <td>60000</td>\n",
              "      <td>0</td>\n",
              "      <td>272762</td>\n",
              "      <td>0</td>\n",
              "      <td>272762</td>\n",
              "      <td>10591</td>\n",
              "      <td>0</td>\n",
              "      <td>R</td>\n",
              "      <td>0</td>\n",
              "    </tr>\n",
              "    <tr>\n",
              "      <th>4</th>\n",
              "      <td>5</td>\n",
              "      <td>170</td>\n",
              "      <td>H</td>\n",
              "      <td>13.0</td>\n",
              "      <td>46</td>\n",
              "      <td>805250</td>\n",
              "      <td>116</td>\n",
              "      <td>0</td>\n",
              "      <td>1</td>\n",
              "      <td>1</td>\n",
              "      <td>...</td>\n",
              "      <td>0</td>\n",
              "      <td>272925</td>\n",
              "      <td>0</td>\n",
              "      <td>249562</td>\n",
              "      <td>0</td>\n",
              "      <td>75339</td>\n",
              "      <td>377782</td>\n",
              "      <td>0</td>\n",
              "      <td>R</td>\n",
              "      <td>0</td>\n",
              "    </tr>\n",
              "  </tbody>\n",
              "</table>\n",
              "<p>5 rows × 574 columns</p>\n",
              "</div>"
            ],
            "text/plain": [
              "   Id  Subsegmento Sexo  Region  Edad   Renta  Antiguedad  Internauta  \\\n",
              "0   1          160    M    13.0    43     NaN         130           1   \n",
              "1   2          160    H    13.0    46  143640          69           1   \n",
              "2   3          170    H    13.0    45  929106          24           1   \n",
              "3   4          151    H    13.0    46  172447         134           0   \n",
              "4   5          170    H    13.0    46  805250         116           0   \n",
              "\n",
              "   Adicional  Dualidad  ...  ColMx_T01  PagoNac_T01  PagoInt_T01  EeccNac_T01  \\\n",
              "0          1         0  ...          0        33000            0      1099866   \n",
              "1          0         0  ...          0       300000            0       214592   \n",
              "2          1         0  ...          0       216676            0            0   \n",
              "3          1         0  ...          0        60000            0       272762   \n",
              "4          1         1  ...          0       272925            0       249562   \n",
              "\n",
              "   EeccInt_T01  UsoL1_T01  UsoL2_T01  UsoLI_T01  IndRev_T01 target  \n",
              "0            0    1099866      15080          0           R      0  \n",
              "1            0     214592      83596          0           R      0  \n",
              "2            0       7400          0          0           T      0  \n",
              "3            0     272762      10591          0           R      0  \n",
              "4            0      75339     377782          0           R      0  \n",
              "\n",
              "[5 rows x 574 columns]"
            ]
          },
          "execution_count": 1155,
          "metadata": {},
          "output_type": "execute_result"
        }
      ],
      "source": [
        "import pandas as pd\n",
        "import numpy as np\n",
        "import matplotlib.pyplot as plt\n",
        "import seaborn as sns\n",
        "# import KNNImputer from scikit-learn\n",
        "from sklearn.impute import KNNImputer\n",
        "\n",
        "\n",
        "#Carga de dataset\n",
        "\n",
        "df = pd.read_csv('Base_clientes_Monopoly.csv', sep=';', low_memory=False)\n",
        "df.head()"
      ]
    },
    {
      "cell_type": "markdown",
      "metadata": {
        "id": "0XinrQvBK1D7"
      },
      "source": [
        "## Fase 2: Data Understanding "
      ]
    },
    {
      "cell_type": "markdown",
      "metadata": {},
      "source": [
        "### Análisis estadistico"
      ]
    },
    {
      "cell_type": "code",
      "execution_count": 1156,
      "metadata": {},
      "outputs": [
        {
          "data": {
            "text/html": [
              "<div>\n",
              "<style scoped>\n",
              "    .dataframe tbody tr th:only-of-type {\n",
              "        vertical-align: middle;\n",
              "    }\n",
              "\n",
              "    .dataframe tbody tr th {\n",
              "        vertical-align: top;\n",
              "    }\n",
              "\n",
              "    .dataframe thead th {\n",
              "        text-align: right;\n",
              "    }\n",
              "</style>\n",
              "<table border=\"1\" class=\"dataframe\">\n",
              "  <thead>\n",
              "    <tr style=\"text-align: right;\">\n",
              "      <th></th>\n",
              "      <th>count</th>\n",
              "      <th>mean</th>\n",
              "      <th>std</th>\n",
              "      <th>min</th>\n",
              "      <th>25%</th>\n",
              "      <th>50%</th>\n",
              "      <th>75%</th>\n",
              "      <th>max</th>\n",
              "    </tr>\n",
              "  </thead>\n",
              "  <tbody>\n",
              "    <tr>\n",
              "      <th>Id</th>\n",
              "      <td>51124.0</td>\n",
              "      <td>25562.500000</td>\n",
              "      <td>14758.371918</td>\n",
              "      <td>1.0</td>\n",
              "      <td>12781.75</td>\n",
              "      <td>25562.5</td>\n",
              "      <td>38343.25</td>\n",
              "      <td>51124.0</td>\n",
              "    </tr>\n",
              "    <tr>\n",
              "      <th>Subsegmento</th>\n",
              "      <td>51124.0</td>\n",
              "      <td>182.024274</td>\n",
              "      <td>29.276596</td>\n",
              "      <td>151.0</td>\n",
              "      <td>160.00</td>\n",
              "      <td>170.0</td>\n",
              "      <td>210.00</td>\n",
              "      <td>959.0</td>\n",
              "    </tr>\n",
              "    <tr>\n",
              "      <th>Region</th>\n",
              "      <td>51071.0</td>\n",
              "      <td>10.828220</td>\n",
              "      <td>3.392703</td>\n",
              "      <td>1.0</td>\n",
              "      <td>9.00</td>\n",
              "      <td>13.0</td>\n",
              "      <td>13.00</td>\n",
              "      <td>13.0</td>\n",
              "    </tr>\n",
              "    <tr>\n",
              "      <th>Edad</th>\n",
              "      <td>51124.0</td>\n",
              "      <td>38.702879</td>\n",
              "      <td>13.302573</td>\n",
              "      <td>9.0</td>\n",
              "      <td>28.00</td>\n",
              "      <td>35.0</td>\n",
              "      <td>46.00</td>\n",
              "      <td>104.0</td>\n",
              "    </tr>\n",
              "    <tr>\n",
              "      <th>Antiguedad</th>\n",
              "      <td>51124.0</td>\n",
              "      <td>38.896154</td>\n",
              "      <td>35.672549</td>\n",
              "      <td>6.0</td>\n",
              "      <td>14.00</td>\n",
              "      <td>25.0</td>\n",
              "      <td>54.00</td>\n",
              "      <td>324.0</td>\n",
              "    </tr>\n",
              "    <tr>\n",
              "      <th>...</th>\n",
              "      <td>...</td>\n",
              "      <td>...</td>\n",
              "      <td>...</td>\n",
              "      <td>...</td>\n",
              "      <td>...</td>\n",
              "      <td>...</td>\n",
              "      <td>...</td>\n",
              "      <td>...</td>\n",
              "    </tr>\n",
              "    <tr>\n",
              "      <th>ColL2AC_T01</th>\n",
              "      <td>51124.0</td>\n",
              "      <td>67862.618340</td>\n",
              "      <td>422467.181659</td>\n",
              "      <td>0.0</td>\n",
              "      <td>0.00</td>\n",
              "      <td>0.0</td>\n",
              "      <td>0.00</td>\n",
              "      <td>11785487.0</td>\n",
              "    </tr>\n",
              "    <tr>\n",
              "      <th>ColL2CC_T01</th>\n",
              "      <td>51124.0</td>\n",
              "      <td>44165.492098</td>\n",
              "      <td>108114.620778</td>\n",
              "      <td>0.0</td>\n",
              "      <td>0.00</td>\n",
              "      <td>0.0</td>\n",
              "      <td>42707.00</td>\n",
              "      <td>2908574.0</td>\n",
              "    </tr>\n",
              "    <tr>\n",
              "      <th>PagoNac_T01</th>\n",
              "      <td>51124.0</td>\n",
              "      <td>76375.529790</td>\n",
              "      <td>149025.590469</td>\n",
              "      <td>0.0</td>\n",
              "      <td>5000.00</td>\n",
              "      <td>34001.5</td>\n",
              "      <td>92000.00</td>\n",
              "      <td>8697782.0</td>\n",
              "    </tr>\n",
              "    <tr>\n",
              "      <th>UsoL2_T01</th>\n",
              "      <td>51124.0</td>\n",
              "      <td>136032.715750</td>\n",
              "      <td>432538.882162</td>\n",
              "      <td>-4.0</td>\n",
              "      <td>0.00</td>\n",
              "      <td>29646.5</td>\n",
              "      <td>102102.25</td>\n",
              "      <td>11785487.0</td>\n",
              "    </tr>\n",
              "    <tr>\n",
              "      <th>target</th>\n",
              "      <td>51124.0</td>\n",
              "      <td>0.089977</td>\n",
              "      <td>0.286152</td>\n",
              "      <td>0.0</td>\n",
              "      <td>0.00</td>\n",
              "      <td>0.0</td>\n",
              "      <td>0.00</td>\n",
              "      <td>1.0</td>\n",
              "    </tr>\n",
              "  </tbody>\n",
              "</table>\n",
              "<p>442 rows × 8 columns</p>\n",
              "</div>"
            ],
            "text/plain": [
              "               count           mean            std    min       25%      50%  \\\n",
              "Id           51124.0   25562.500000   14758.371918    1.0  12781.75  25562.5   \n",
              "Subsegmento  51124.0     182.024274      29.276596  151.0    160.00    170.0   \n",
              "Region       51071.0      10.828220       3.392703    1.0      9.00     13.0   \n",
              "Edad         51124.0      38.702879      13.302573    9.0     28.00     35.0   \n",
              "Antiguedad   51124.0      38.896154      35.672549    6.0     14.00     25.0   \n",
              "...              ...            ...            ...    ...       ...      ...   \n",
              "ColL2AC_T01  51124.0   67862.618340  422467.181659    0.0      0.00      0.0   \n",
              "ColL2CC_T01  51124.0   44165.492098  108114.620778    0.0      0.00      0.0   \n",
              "PagoNac_T01  51124.0   76375.529790  149025.590469    0.0   5000.00  34001.5   \n",
              "UsoL2_T01    51124.0  136032.715750  432538.882162   -4.0      0.00  29646.5   \n",
              "target       51124.0       0.089977       0.286152    0.0      0.00      0.0   \n",
              "\n",
              "                   75%         max  \n",
              "Id            38343.25     51124.0  \n",
              "Subsegmento     210.00       959.0  \n",
              "Region           13.00        13.0  \n",
              "Edad             46.00       104.0  \n",
              "Antiguedad       54.00       324.0  \n",
              "...                ...         ...  \n",
              "ColL2AC_T01       0.00  11785487.0  \n",
              "ColL2CC_T01   42707.00   2908574.0  \n",
              "PagoNac_T01   92000.00   8697782.0  \n",
              "UsoL2_T01    102102.25  11785487.0  \n",
              "target            0.00         1.0  \n",
              "\n",
              "[442 rows x 8 columns]"
            ]
          },
          "execution_count": 1156,
          "metadata": {},
          "output_type": "execute_result"
        }
      ],
      "source": [
        "df.describe().T"
      ]
    },
    {
      "cell_type": "markdown",
      "metadata": {},
      "source": [
        "### Tipos de datos\n",
        "\n",
        "#### 1. Entendimiento \n",
        "\n",
        "Para una mejor visualización y entendimiento del dataset realizaremos dos dataset, el primero lo acotaremos hasta CUPO_MX, ya que el resto de las columnas son la repetición de la información para el mes X (mensual) además agregando la última columna Target. El Segundo será para todos los datos mensuales"
      ]
    },
    {
      "cell_type": "markdown",
      "metadata": {},
      "source": [
        "##### 1.1 Sabremos el numero de la columna CUPO_MX"
      ]
    },
    {
      "cell_type": "code",
      "execution_count": 1157,
      "metadata": {},
      "outputs": [
        {
          "data": {
            "text/plain": [
              "20"
            ]
          },
          "execution_count": 1157,
          "metadata": {},
          "output_type": "execute_result"
        }
      ],
      "source": [
        "# Saber el index de la columna CUPO_L2\n",
        "df.columns.get_loc('CUPO_MX')"
      ]
    },
    {
      "cell_type": "markdown",
      "metadata": {},
      "source": [
        "Aca crearemos un df_business_understanding que tendra las primeras 20 columnas, mas la última columna."
      ]
    },
    {
      "cell_type": "code",
      "execution_count": 1158,
      "metadata": {},
      "outputs": [
        {
          "name": "stdout",
          "output_type": "stream",
          "text": [
            "Última columna del dataset luego del acotamiento -> CUPO_MX\n",
            "Última columna del dataset luego de la concatenación -> target\n"
          ]
        }
      ],
      "source": [
        "#Dejar el df hasta la columna CUPO_MX\n",
        "df_business_understanding = df.iloc[:,0:21]\n",
        "print(f\"Última columna del dataset luego del acotamiento -> {df_business_understanding.columns[-1]}\")\n",
        "df_business_understanding = pd.concat([df_business_understanding,df.iloc[:,-1]], axis=1)\n",
        "print(f\"Última columna del dataset luego de la concatenación -> {df_business_understanding.columns[-1]}\")\n",
        "\n",
        "\n"
      ]
    },
    {
      "cell_type": "markdown",
      "metadata": {},
      "source": [
        "##### 1.2 Aca crearemos el dataset de las transacciones mensuales  "
      ]
    },
    {
      "cell_type": "code",
      "execution_count": 1159,
      "metadata": {},
      "outputs": [
        {
          "name": "stdout",
          "output_type": "stream",
          "text": [
            "Primera columna del dataset luego del acotamiento -> FlgAct_T12\n",
            "Ultima columna del dataset luego del acotamiento -> IndRev_T01\n"
          ]
        }
      ],
      "source": [
        "df_monthly = df.iloc[:,21:-1]\n",
        "print(f\"Primera columna del dataset luego del acotamiento -> {df_monthly.columns[0]}\")\n",
        "print(f\"Ultima columna del dataset luego del acotamiento -> {df_monthly.columns[-1]}\")\n"
      ]
    },
    {
      "cell_type": "markdown",
      "metadata": {},
      "source": [
        "#### 2. Análisis de los tipos de datos de cada columna\n",
        "   \n",
        "##### 2.1 Analizar los datos de df_business_understanding"
      ]
    },
    {
      "cell_type": "code",
      "execution_count": 1160,
      "metadata": {},
      "outputs": [
        {
          "data": {
            "image/png": "[encoded data removed]",
            "text/plain": [
              "<Figure size 400x500 with 1 Axes>"
            ]
          },
          "metadata": {},
          "output_type": "display_data"
        }
      ],
      "source": [
        "data_types_counts = df_business_understanding.dtypes.value_counts()\n",
        "\n",
        "plt.figure(figsize=(4, 5))\n",
        "ax = data_types_counts.plot(kind='bar', rot=0, color='purple')\n",
        "\n",
        "for p in ax.patches:\n",
        "    ax.annotate(str(p.get_height()), (p.get_x() + p.get_width() / 2., p.get_height()),\n",
        "                ha='center', va='center', xytext=(0, 5), textcoords='offset points')\n",
        "\n",
        "plt.xlabel('Tipo de Dato')\n",
        "plt.ylabel('Cantidad')\n",
        "plt.title('Cantidad de cada Tipo de Dato en el DataFrame')\n",
        "plt.show()"
      ]
    },
    {
      "cell_type": "markdown",
      "metadata": {},
      "source": [
        "##### 2.1 Analizar los datos de la columna df_monthly"
      ]
    },
    {
      "cell_type": "code",
      "execution_count": 1161,
      "metadata": {},
      "outputs": [
        {
          "data": {
            "image/png": "[encoded data removed]",
            "text/plain": [
              "<Figure size 400x500 with 1 Axes>"
            ]
          },
          "metadata": {},
          "output_type": "display_data"
        }
      ],
      "source": [
        "data_types_counts = df_monthly.dtypes.value_counts()\n",
        "\n",
        "plt.figure(figsize=(4, 5))\n",
        "ax = data_types_counts.plot(kind='bar', rot=0, color='purple')\n",
        "\n",
        "for p in ax.patches:\n",
        "    ax.annotate(str(p.get_height()), (p.get_x() + p.get_width() / 2., p.get_height()),\n",
        "                ha='center', va='center', xytext=(0, 5), textcoords='offset points')\n",
        "\n",
        "plt.xlabel('Tipo de Dato')\n",
        "plt.ylabel('Cantidad')\n",
        "plt.title('Cantidad de cada Tipo de Dato en el DataFrame')\n",
        "plt.show()\n"
      ]
    },
    {
      "cell_type": "markdown",
      "metadata": {},
      "source": [
        "**Recomendación**: Transformar las variables de tipo object a un tipo de dato más adecuado para su análisis."
      ]
    },
    {
      "cell_type": "markdown",
      "metadata": {},
      "source": [
        "#### 3. Revisión de datos tipo object\n",
        "\n",
        "##### 3.1 Todas las columas tipo Object"
      ]
    },
    {
      "cell_type": "code",
      "execution_count": 1162,
      "metadata": {},
      "outputs": [
        {
          "name": "stdout",
          "output_type": "stream",
          "text": [
            "Columnas de tipo object\n",
            "Columna Sexo valores unicos -> ['M' 'H' nan]\n",
            "Columna Renta valores unicos -> [nan '143640' '929106' '172447' '805250']\n",
            "Columna CUPO_L2 valores unicos -> ['1012000' '150000' '200000' '220001' '2']\n",
            "Columna CUPO_MX valores unicos -> ['1210' '1000' '1500' '0' '6430']\n",
            "Columna Fac_T12 valores unicos -> ['55490' '19813' '123950' '44470' '138225']\n",
            "Columna FacCN_T12 valores unicos -> ['55490' '19813' '123950' '44470' '138225']\n",
            "Columna FacCI_T12 valores unicos -> ['0' nan '17493,0663' '523,2277' '10761,2295']\n",
            "Columna FacAI_T12 valores unicos -> ['0' nan '47753,9673' '625170,7959' '64448,7068']\n",
            "Columna Col_T12 valores unicos -> ['675198' '370529' '123950' '343226' '177973']\n",
            "Columna ColL1TE_T12 valores unicos -> ['675198' '82504' '0' '315896' '120079']\n",
            "Columna ColMx_T12 valores unicos -> ['0' nan '17493,07' '523,23' '21522,46']\n",
            "Columna PagoInt_T12 valores unicos -> ['0' nan '45310,44' '156968,31' '21781,3758']\n",
            "Columna EeccNac_T12 valores unicos -> ['702168' '244876' '94415' '358807' '233331']\n",
            "Columna EeccInt_T12 valores unicos -> ['0' nan '-0,61' '32,43' '0,97']\n",
            "Columna UsoL1_T12 valores unicos -> ['731768' '244876' '94415' '358807' '67516']\n",
            "Columna UsoLI_T12 valores unicos -> ['0' nan '-0,61' '32,43' '0,97']\n",
            "Columna IndRev_T12 valores unicos -> ['R' 'T' 'P' nan]\n",
            "Columna Fac_T11 valores unicos -> ['0' '291725' '97474' '72416' '526687']\n",
            "Columna FacCN_T11 valores unicos -> ['0' '291725' '97474' '72416' '526687']\n",
            "Columna FacCI_T11 valores unicos -> ['0' nan '263571,8324' '10750,0223' '10728,5115']\n",
            "Columna FacAI_T11 valores unicos -> ['0' nan '27485,4247' '17633,4783' '50792,3765']\n",
            "Columna Col_T11 valores unicos -> ['723293' '506679' '97474' '342599' '266409']\n",
            "Columna ColL1TE_T11 valores unicos -> ['676433' '95003' '0' '309221' '430842']\n",
            "Columna ColMx_T11 valores unicos -> ['0' nan '263571,83' '10750,02' '10728,51']\n",
            "Columna PagoInt_T11 valores unicos -> ['0' nan '994874,5' '151651,14' '298924,8322']\n",
            "Columna EeccNac_T11 valores unicos -> ['739270' '356576' '0' '347432' '225748']\n",
            "Columna EeccInt_T11 valores unicos -> ['0' nan '490,12' '-0,61' '19,99']\n",
            "Columna UsoL1_T11 valores unicos -> ['739270' '356576' '14850' '347432' '101864']\n",
            "Columna UsoLI_T11 valores unicos -> ['0' nan '490,12' '-0,61' '19,99']\n",
            "Columna IndRev_T11 valores unicos -> ['R' 'T' 'P' nan]\n",
            "Columna Fac_T10 valores unicos -> ['14630' '288143,2092' '6500' '23003' '164532']\n",
            "Columna FacCN_T10 valores unicos -> ['14630' '100918' '6500' '23003' '164532']\n",
            "Columna FacCI_T10 valores unicos -> ['0' '187225,2092' nan '8213,2372' '444198,3482']\n",
            "Columna FacAI_T10 valores unicos -> ['0' nan '269110' '52110,4604' '58692,891']\n",
            "Columna Col_T10 valores unicos -> ['749120' '659688,21' '21350' '373587' '243148']\n",
            "Columna ColL1TE_T10 valores unicos -> ['717230' '163035' '0' '307898' '295653']\n",
            "Columna ColMx_T10 valores unicos -> ['0' '187225,21' nan '8213,24' '444198,35']\n",
            "Columna PagoInt_T10 valores unicos -> ['0' nan '16146,6' '388201,9394' '277285,5618']\n",
            "Columna EeccNac_T10 valores unicos -> ['759194' '426159' '0' '375542' '329240']\n",
            "Columna EeccInt_T10 valores unicos -> ['0' '313,39' nan '-0,61' '19,95']\n",
            "Columna UsoL1_T10 valores unicos -> ['769194' '426159' '6500' '375542' '94019']\n",
            "Columna UsoLI_T10 valores unicos -> ['0' '347,86' nan '15,26' '-0,61']\n",
            "Columna IndRev_T10 valores unicos -> ['R' 'T' nan 'P']\n",
            "Columna Col_T09 valores unicos -> ['781789' '628422,88' '61790' '366316' '279087']\n",
            "Columna ColL1TE_T09 valores unicos -> ['736179' '434170' '0' '315965' '70096']\n",
            "Columna ColMx_T09 valores unicos -> ['0' '18130,88' nan '392798,81' '434104,81']\n",
            "Columna PagoInt_T09 valores unicos -> ['0' nan '399752,4' '9993,81' '806868,66']\n",
            "Columna EeccNac_T09 valores unicos -> ['788751' '769718' '0' '360004' '273153']\n",
            "Columna EeccInt_T09 valores unicos -> ['0' '34,47' nan '309,86' '-0,61']\n",
            "Columna UsoL1_T09 valores unicos -> ['807655' '569718' '5700' '360004' '112735']\n",
            "Columna UsoLI_T09 valores unicos -> ['0' '34,47' nan '746,78' '-0,61']\n",
            "Columna IndRev_T09 valores unicos -> ['R' 'T' 'P' nan]\n",
            "Columna Col_T08 valores unicos -> ['838145' '609102' '649320' '368094' '285185']\n",
            "Columna ColL1TE_T08 valores unicos -> ['765134' '408757' '0' '300406' '228674']\n",
            "Columna ColMx_T08 valores unicos -> ['0' nan '231257,39' '140283,02' '185860,18']\n",
            "Columna PagoInt_T08 valores unicos -> ['0' nan '436828,3299' '550990,89' '475350,0561']\n",
            "Columna EeccNac_T08 valores unicos -> ['827221' '531753' '0' '367944' '463781']\n",
            "Columna EeccInt_T08 valores unicos -> ['0' nan '436,92' '-0,61' '351,15']\n",
            "Columna UsoL1_T08 valores unicos -> ['842571' '544933' '23800' '378950' '147131']\n",
            "Columna UsoLI_T08 valores unicos -> ['0' nan '436,92' '-0,61' '265,04']\n",
            "Columna IndRev_T08 valores unicos -> ['R' 'T' 'P' nan]\n",
            "Columna Col_T07 valores unicos -> ['945553' '581868' '188824' '353439' '274519']\n",
            "Columna ColL1TE_T07 valores unicos -> ['803069' '363060' '0' '323437' '254602']\n",
            "Columna ColMx_T07 valores unicos -> ['0' '352268,79' '144507,93' '10650,71' nan]\n",
            "Columna PagoInt_T07 valores unicos -> ['0' nan '192193,2' '80080,5' '44845,08']\n",
            "Columna EeccNac_T07 valores unicos -> ['878272' '689198' '2056' '367343' '385098']\n",
            "Columna EeccInt_T07 valores unicos -> ['0' '659,84' '270,68' '265,04' '19,95']\n",
            "Columna UsoL1_T07 valores unicos -> ['878272' '499198' '63991' '367343' '34266']\n",
            "Columna UsoLI_T07 valores unicos -> ['0' '659,84' '270,68' '19,95' nan]\n",
            "Columna IndRev_T07 valores unicos -> ['R' 'T' 'P' nan]\n",
            "Columna Fac_T06 valores unicos -> ['106045' '195714,1682' '59840' '82462' '323687']\n",
            "Columna FacCN_T06 valores unicos -> ['106045' '0' '59840' '82462' '323687']\n",
            "Columna FacCI_T06 valores unicos -> ['0' '195714,1682' '73135,897' nan '652400,5506']\n",
            "Columna FacAI_T06 valores unicos -> ['0' nan '136164,1568' '88346,419' '141125,2948']\n",
            "Columna Col_T06 valores unicos -> ['1042046' '731020,17' '118173' '353606' '229720']\n",
            "Columna ColL1TE_T06 valores unicos -> ['843499' '389810' '0' '307791' '323492']\n",
            "Columna ColMx_T06 valores unicos -> ['0' '195714,17' '73135,9' nan '652400,55']\n",
            "Columna PagoInt_T06 valores unicos -> ['0' '359818,8' '147743,78' nan '763252']\n",
            "Columna EeccNac_T06 valores unicos -> ['958375' '507253' '5658' '346361' '418649']\n",
            "Columna EeccInt_T06 valores unicos -> ['0' '86,21' '-0,5' '-0,32' nan]\n",
            "Columna UsoL1_T06 valores unicos -> ['944115' '507253' '0' '346361' '90658']\n",
            "Columna UsoLI_T06 valores unicos -> ['0' '358,99' '133,65' '-0,32' nan]\n",
            "Columna IndRev_T06 valores unicos -> ['R' 'T' 'P' nan]\n",
            "Columna Col_T05 valores unicos -> ['1039534' '573811,29' '0' '350306' '209870']\n",
            "Columna ColL1TE_T05 valores unicos -> ['895233' '355578' '0' '296794' '251037']\n",
            "Columna ColMx_T05 valores unicos -> ['0' '147320,29' '72450,39' '10774,4' '195165,1']\n",
            "Columna PagoInt_T05 valores unicos -> ['0' '292717,94' '216028' '320261,51' '16202,1']\n",
            "Columna EeccNac_T05 valores unicos -> ['982806' '441843' '0' '333006' '341886']\n",
            "Columna EeccInt_T05 valores unicos -> ['0' '272,78' '133,65' '-0,32' '19,95']\n",
            "Columna UsoL1_T05 valores unicos -> ['982806' '441843' '0' '352008' '96071']\n",
            "Columna UsoLI_T05 valores unicos -> ['0' '272,78' '133,65' '-0,32' '19,95']\n",
            "Columna IndRev_T05 valores unicos -> ['R' 'T' 'P' nan]\n",
            "Columna Col_T04 valores unicos -> ['1057699' '405260' '54138' '337629' '172017']\n",
            "Columna ColL1TE_T04 valores unicos -> ['944986' '390972' '0' '273347' '275554']\n",
            "Columna ColMx_T04 valores unicos -> ['0' '34250' '62976,84' '14266,34' '13511,22']\n",
            "Columna PagoInt_T04 valores unicos -> ['0' '51779,52' '97599,0015' '289722,5955' '9169,29']\n",
            "Columna EeccNac_T04 valores unicos -> ['1037828' '422350' '0' '335425' '201365']\n",
            "Columna EeccInt_T04 valores unicos -> ['0' '63,5' '4,76' '-0,32' '26,45']\n",
            "Columna UsoL1_T04 valores unicos -> ['1037828' '422350' '54138' '335425' '43445']\n",
            "Columna UsoLI_T04 valores unicos -> ['0' '63,5' '4,76' '-0,32' '26,45']\n",
            "Columna IndRev_T04 valores unicos -> ['R' 'T' 'P' nan]\n",
            "Columna Fac_T03 valores unicos -> ['0' '5678' '6650' '27000' '237926']\n",
            "Columna FacCN_T03 valores unicos -> ['0' '5678' '6650' '27000' '237926']\n",
            "Columna FacCI_T03 valores unicos -> ['0' '68583,6496' '20445,4332' '163004,7608' '57699,4476']\n",
            "Columna FacAI_T03 valores unicos -> ['0' '122930,8684' '51200,5512' '34486,8444' '22137,36']\n",
            "Columna Col_T03 valores unicos -> ['1056069' '437886' '45120' '336037' '185988']\n",
            "Columna ColL1TE_T03 valores unicos -> ['998074' '422878' '0' '275844' '212']\n",
            "Columna ColMx_T03 valores unicos -> ['0' '68583,65' '20445,43' '61541,86' '285935,63']\n",
            "Columna PagoInt_T03 valores unicos -> ['0' '618264,84' '106470,16' '346291,56' '10541,6']\n",
            "Columna EeccNac_T03 valores unicos -> ['1051162' '454584' '0' '334976' '193716']\n",
            "Columna EeccInt_T03 valores unicos -> ['0' '130,12' '116,76' '-0,32' '542,49']\n",
            "Columna UsoL1_T03 valores unicos -> ['1051162' '454584' '0' '334976' '49845']\n",
            "Columna UsoLI_T03 valores unicos -> ['0' '130,12' '38,79' '116,76' '-0,32']\n",
            "Columna IndRev_T03 valores unicos -> ['R' 'T' 'P' nan]\n",
            "Columna Col_T02 valores unicos -> ['1063131' '445899' '48279' '301738' '284810']\n",
            "Columna ColL1TE_T02 valores unicos -> ['1019435' '441135' '0' '275320' '11710']\n",
            "Columna ColMx_T02 valores unicos -> ['0' '143374,66' '63756,07' '152442,73' '194338,37']\n",
            "Columna PagoInt_T02 valores unicos -> ['0' '52752' '1788055,416' '263760' '42861']\n",
            "Columna EeccNac_T02 valores unicos -> ['1072040' '462736' '0' '303400' '184685']\n",
            "Columna EeccInt_T02 valores unicos -> ['0' '-0,32' '288,98' '-0,03' '368,4']\n",
            "Columna UsoL1_T02 valores unicos -> ['1072040' '462736' '32740' '303400' '93302']\n",
            "Columna UsoLI_T02 valores unicos -> ['0' '271,79' '-0,32' '120,86' '288,98']\n",
            "Columna IndRev_T02 valores unicos -> ['R' 'T' 'P' nan]\n",
            "Columna Col_T01 valores unicos -> ['1069735' '211884' '7400' '262160' '306161']\n",
            "Columna ColL1TE_T01 valores unicos -> ['1040339' '162939' '0' '244048' '195830']\n",
            "Columna ColMx_T01 valores unicos -> ['0' '143358,35' '13650,66' '63748,82' '92294,95']\n",
            "Columna PagoInt_T01 valores unicos -> ['0' '81756,3' '97580,1' '221533,2' '21098,4']\n",
            "Columna EeccNac_T01 valores unicos -> ['1099866' '214592' '0' '272762' '249562']\n",
            "Columna EeccInt_T01 valores unicos -> ['0' '271,79' '25,88' '-0,32' '120,86']\n",
            "Columna UsoL1_T01 valores unicos -> ['1099866' '214592' '7400' '272762' '75339']\n",
            "Columna UsoLI_T01 valores unicos -> ['0' '271,79' '25,88' '-0,32' '120,86']\n",
            "Columna IndRev_T01 valores unicos -> ['R' 'T' 'P']\n"
          ]
        }
      ],
      "source": [
        "df_object = df.select_dtypes(include=['object'])\n",
        "print('Columnas de tipo object')\n",
        "for col in df_object.columns:\n",
        "    print(f\"Columna {col} valores unicos -> {df_object[col].unique()[:5]}\")\n"
      ]
    },
    {
      "cell_type": "markdown",
      "metadata": {},
      "source": [
        "##### 3.2 IndRev_T01 a IndRev_T12"
      ]
    },
    {
      "cell_type": "code",
      "execution_count": 1163,
      "metadata": {},
      "outputs": [
        {
          "name": "stdout",
          "output_type": "stream",
          "text": [
            "Columna IndRev_T01 posee 0 nulos equivalante al 0.0%\n",
            "Columna IndRev_T02 posee 12 nulos equivalante al 0.02%\n",
            "Columna IndRev_T03 posee 10 nulos equivalante al 0.02%\n",
            "Columna IndRev_T04 posee 19 nulos equivalante al 0.04%\n",
            "Columna IndRev_T05 posee 25 nulos equivalante al 0.05%\n",
            "Columna IndRev_T06 posee 47 nulos equivalante al 0.09%\n",
            "Columna IndRev_T07 posee 833 nulos equivalante al 1.63%\n",
            "Columna IndRev_T08 posee 2200 nulos equivalante al 4.3%\n",
            "Columna IndRev_T09 posee 3800 nulos equivalante al 7.43%\n",
            "Columna IndRev_T10 posee 5191 nulos equivalante al 10.15%\n",
            "Columna IndRev_T11 posee 6632 nulos equivalante al 12.97%\n",
            "Columna IndRev_T12 posee 8251 nulos equivalante al 16.14%\n"
          ]
        }
      ],
      "source": [
        "total_filas = df.shape[0]\n",
        "for i in range(1, 13):\n",
        "    name = 'IndRev_T'\n",
        "    if i < 10:\n",
        "        name = name + '0' + str(i)\n",
        "    else:\n",
        "        name = name + str(i)\n",
        "    nulls = df[name].isna().sum()\n",
        "    print(f'Columna {name} posee {nulls} nulos equivalante al {round(nulls / total_filas * 100 , 2)}%')\n",
        "\n"
      ]
    },
    {
      "cell_type": "markdown",
      "metadata": {},
      "source": [
        "**Recomendación:** Al ser datos categóricos y no conocer su significado debiesen ser imputados por la moda"
      ]
    },
    {
      "cell_type": "markdown",
      "metadata": {},
      "source": [
        "##### 3.3 Datos mensuales\n",
        "\n",
        "**Recomendación:** Al ser datos de pagos, recibos, cantidad de transacciones, etc. si estos son object se puede deber a que hay datos como string o nulos"
      ]
    },
    {
      "cell_type": "markdown",
      "metadata": {},
      "source": [
        "#### 4. Búsqueda de valores nulos df_business_understanding "
      ]
    },
    {
      "cell_type": "markdown",
      "metadata": {},
      "source": [
        "##### 4.1 Datos Nulos df_business_understanding porcentual"
      ]
    },
    {
      "cell_type": "code",
      "execution_count": 1164,
      "metadata": {},
      "outputs": [
        {
          "data": {
            "text/plain": [
              "Sexo          0.001956\n",
              "Region        0.103670\n",
              "Renta        26.142321\n",
              "CambioPin    37.923480\n",
              "dtype: float64"
            ]
          },
          "execution_count": 1164,
          "metadata": {},
          "output_type": "execute_result"
        }
      ],
      "source": [
        "#Saber porcentaje de valores nulos por columna\n",
        "null_counts = df_business_understanding.isnull().sum()\n",
        "null_counts[null_counts > 0].sort_values(ascending=True) / df.shape[0] * 100\n"
      ]
    },
    {
      "cell_type": "markdown",
      "metadata": {},
      "source": [
        "##### 4.2 Datos Nulos df_business_understanding por cantidad de valores"
      ]
    },
    {
      "cell_type": "code",
      "execution_count": 1165,
      "metadata": {},
      "outputs": [
        {
          "data": {
            "text/plain": [
              "CambioPin    19388\n",
              "Renta        13365\n",
              "Region          53\n",
              "Sexo             1\n",
              "dtype: int64"
            ]
          },
          "execution_count": 1165,
          "metadata": {},
          "output_type": "execute_result"
        }
      ],
      "source": [
        "null_counts[null_counts > 0].sort_values(ascending=False).head()\n"
      ]
    },
    {
      "cell_type": "markdown",
      "metadata": {},
      "source": [
        "##### 4.3 Análisis Cambio Pin"
      ]
    },
    {
      "cell_type": "code",
      "execution_count": 1166,
      "metadata": {},
      "outputs": [
        {
          "name": "stdout",
          "output_type": "stream",
          "text": [
            "Valores únicos de la columna CambioPin -> [nan, 1.0]\n"
          ]
        }
      ],
      "source": [
        "unique_values_cambio_pin = df['CambioPin'].unique().tolist()\n",
        "\n",
        "print(f\"Valores únicos de la columna CambioPin -> {unique_values_cambio_pin}\")"
      ]
    },
    {
      "cell_type": "markdown",
      "metadata": {},
      "source": [
        "La columna CambioPin tiene un 37% de valores nulos, pero solo tiene NULL y 1, por lo que se puede asumir que el valor nulo es 0 (False), indicaría que el cliente no ha cambiado su clave secreta de la tarjeta.\n",
        "\n",
        "**Recomendación**: Eliminar la columna CambioPin si no es relevante para la predicción que se vaya a realizar o reemplazar los valores nulos por 0."
      ]
    },
    {
      "cell_type": "markdown",
      "metadata": {},
      "source": [
        "##### 4.4 Análisis Renta"
      ]
    },
    {
      "cell_type": "code",
      "execution_count": 1167,
      "metadata": {},
      "outputs": [
        {
          "name": "stdout",
          "output_type": "stream",
          "text": [
            "Valores nulos de la columna Renta -> 13365\n",
            "Tipo de dato de la columna Renta -> object\n"
          ]
        }
      ],
      "source": [
        "null_values_renta = df['Renta'].isna().sum()\n",
        "data_type_renta = df['Renta'].dtype\n",
        "\n",
        "print(f\"Valores nulos de la columna Renta -> {null_values_renta}\")\n",
        "print(f\"Tipo de dato de la columna Renta -> {data_type_renta}\")"
      ]
    },
    {
      "cell_type": "markdown",
      "metadata": {},
      "source": [
        "**Recomendación**: La columna renta tiene 13365 valores nulos (26.14%), teniendo en cuenta que es una variable numérica continua, se recomienda realizar una imputación de datos, podría utilizarse KNNImputer o MICE. Además se debe castear a algún tipo de dato válido como int o float."
      ]
    },
    {
      "cell_type": "markdown",
      "metadata": {},
      "source": [
        "##### 4.5 Análisis Sexo"
      ]
    },
    {
      "cell_type": "code",
      "execution_count": 1168,
      "metadata": {},
      "outputs": [
        {
          "name": "stdout",
          "output_type": "stream",
          "text": [
            "Cantidad de valores nulos de la columna Sexo -> 1\n",
            "Tipo de dato de la columna Sexo -> object\n"
          ]
        }
      ],
      "source": [
        "null_values_sex = df['Sexo'].isna().sum()\n",
        "data_type_sex = df['Sexo'].dtype\n",
        "print(f\"Cantidad de valores nulos de la columna Sexo -> {null_values_sex}\")\n",
        "print(f\"Tipo de dato de la columna Sexo -> {data_type_sex}\")"
      ]
    },
    {
      "cell_type": "code",
      "execution_count": 1169,
      "metadata": {},
      "outputs": [
        {
          "data": {
            "image/png": "[encoded data removed]",
            "text/plain": [
              "<Figure size 640x480 with 1 Axes>"
            ]
          },
          "metadata": {},
          "output_type": "display_data"
        }
      ],
      "source": [
        "## Grafico de circular para la columna Sexo\n",
        "labels = df['Sexo'].value_counts().index.tolist()\n",
        "sizes = df['Sexo'].value_counts().tolist()\n",
        "explode = (0, 0.1)\n",
        "fig1, ax1 = plt.subplots()\n",
        "ax1.pie(sizes, explode=explode, labels=labels, autopct='%1.1f%%',\n",
        "            shadow=True, startangle=90)\n",
        "ax1.axis('equal')\n",
        "plt.show()\n"
      ]
    },
    {
      "cell_type": "markdown",
      "metadata": {},
      "source": [
        "**Recomendación**: La columna Sexo solo tiene 1 valor nulo, se recomienda eliminar la fila o reemplazar el valor nulo por el valor más frecuente (Moda). Además, se debería castear a categoría y realizar un one-hot encoding."
      ]
    },
    {
      "cell_type": "markdown",
      "metadata": {},
      "source": [
        "##### 4.6 Análisis Región"
      ]
    },
    {
      "cell_type": "code",
      "execution_count": 1170,
      "metadata": {},
      "outputs": [
        {
          "name": "stdout",
          "output_type": "stream",
          "text": [
            "Cantidad de valores nulos de la columna Region -> 53\n",
            "Tipo de dato de la columna Region -> float64\n"
          ]
        }
      ],
      "source": [
        "null_values_region = df['Region'].isna().sum()\n",
        "data_type_region = df['Region'].dtype\n",
        "\n",
        "print(f\"Cantidad de valores nulos de la columna Region -> {null_values_region}\")\n",
        "print(f\"Tipo de dato de la columna Region -> {data_type_region}\")"
      ]
    },
    {
      "cell_type": "code",
      "execution_count": 1171,
      "metadata": {},
      "outputs": [
        {
          "data": {
            "image/png": "[encoded data removed]",
            "text/plain": [
              "<Figure size 1000x500 with 1 Axes>"
            ]
          },
          "metadata": {},
          "output_type": "display_data"
        }
      ],
      "source": [
        "\n",
        "region_counts = df['Region'].value_counts()\n",
        "plt.figure(figsize=(10, 5))\n",
        "ax = region_counts.plot(kind='bar', rot=0, color='skyblue')\n",
        "for p in ax.patches:\n",
        "    ax.annotate(str(p.get_height()), (p.get_x() + p.get_width() / 2., p.get_height()),\n",
        "                ha='center', va='center', xytext=(0, 5), textcoords='offset points')\n",
        "plt.xlabel('Región')\n",
        "plt.ylabel('Cantidad')\n",
        "plt.title('Cantidad de clientes por Región')\n",
        "plt.show()"
      ]
    },
    {
      "cell_type": "markdown",
      "metadata": {},
      "source": [
        "**Recomendación**: La columna región tiene 53 valores nulos, se recomienda eliminar la columna si no va a ser relevante para la predicción o reemplazar los valores nulos por el valor más frecuente (Moda) o usar otro tipo de imputación para variable categórica nominal, también sería quizás viable eliminar las filas ya que representan poco % del dataset."
      ]
    },
    {
      "cell_type": "markdown",
      "metadata": {},
      "source": [
        "##### 4.7 Análisis TC"
      ]
    },
    {
      "cell_type": "code",
      "execution_count": 1172,
      "metadata": {},
      "outputs": [
        {
          "name": "stderr",
          "output_type": "stream",
          "text": [
            "C:\\Users\\ccont\\AppData\\Local\\Temp\\ipykernel_3328\\1581625228.py:7: FutureWarning: Series.__getitem__ treating keys as positions is deprecated. In a future version, integer keys will always be treated as labels (consistent with DataFrame behavior). To access a value by position, use `ser.iloc[pos]`\n",
            "  accuaracy = (cantidad / df_heatmap.shape[0])[0] * 100\n"
          ]
        },
        {
          "data": {
            "text/plain": [
              "37.944996479148735"
            ]
          },
          "execution_count": 1172,
          "metadata": {},
          "output_type": "execute_result"
        }
      ],
      "source": [
        "\n",
        "df_heatmap = df[['Dualidad', 'Monoproducto', 'TC']]\n",
        "\n",
        "df_heatmap.query('Dualidad > 0 and TC > 1').count()\n",
        "\n",
        "cantidad = df_heatmap.query('Dualidad > 0 and TC > 1').count()\n",
        "\n",
        "accuaracy = (cantidad / df_heatmap.shape[0])[0] * 100\n",
        "\n",
        "accuaracy"
      ]
    },
    {
      "cell_type": "markdown",
      "metadata": {},
      "source": [
        "**Recomendación**: Elimnar la columna \"Dualidad\" y \"Monoproducto\" ya que deberían estar entregando información similar a la variable \"TC\", no tiene mucho sentido la descripcion que se brinda con la realidad de los datos. Si un cliente es dual, debería tener una cantidad de Tarjetas de crédito > 1, esto solo sucede el 38% de los casos."
      ]
    },
    {
      "cell_type": "markdown",
      "metadata": {},
      "source": [
        "##### 4.7 Outliers Edad-Antiguedad"
      ]
    },
    {
      "cell_type": "code",
      "execution_count": 1173,
      "metadata": {},
      "outputs": [
        {
          "name": "stderr",
          "output_type": "stream",
          "text": [
            "c:\\Users\\ccont\\AppData\\Local\\Programs\\Python\\Python310\\lib\\site-packages\\seaborn\\_oldcore.py:1498: FutureWarning: is_categorical_dtype is deprecated and will be removed in a future version. Use isinstance(dtype, CategoricalDtype) instead\n",
            "  if pd.api.types.is_categorical_dtype(vector):\n",
            "c:\\Users\\ccont\\AppData\\Local\\Programs\\Python\\Python310\\lib\\site-packages\\seaborn\\_oldcore.py:1498: FutureWarning: is_categorical_dtype is deprecated and will be removed in a future version. Use isinstance(dtype, CategoricalDtype) instead\n",
            "  if pd.api.types.is_categorical_dtype(vector):\n",
            "c:\\Users\\ccont\\AppData\\Local\\Programs\\Python\\Python310\\lib\\site-packages\\seaborn\\_oldcore.py:1498: FutureWarning: is_categorical_dtype is deprecated and will be removed in a future version. Use isinstance(dtype, CategoricalDtype) instead\n",
            "  if pd.api.types.is_categorical_dtype(vector):\n",
            "c:\\Users\\ccont\\AppData\\Local\\Programs\\Python\\Python310\\lib\\site-packages\\seaborn\\_oldcore.py:1498: FutureWarning: is_categorical_dtype is deprecated and will be removed in a future version. Use isinstance(dtype, CategoricalDtype) instead\n",
            "  if pd.api.types.is_categorical_dtype(vector):\n",
            "c:\\Users\\ccont\\AppData\\Local\\Programs\\Python\\Python310\\lib\\site-packages\\seaborn\\_oldcore.py:1498: FutureWarning: is_categorical_dtype is deprecated and will be removed in a future version. Use isinstance(dtype, CategoricalDtype) instead\n",
            "  if pd.api.types.is_categorical_dtype(vector):\n",
            "c:\\Users\\ccont\\AppData\\Local\\Programs\\Python\\Python310\\lib\\site-packages\\seaborn\\_oldcore.py:1498: FutureWarning: is_categorical_dtype is deprecated and will be removed in a future version. Use isinstance(dtype, CategoricalDtype) instead\n",
            "  if pd.api.types.is_categorical_dtype(vector):\n"
          ]
        },
        {
          "data": {
            "image/png": "[encoded data removed]",
            "text/plain": [
              "<Figure size 1500x1000 with 1 Axes>"
            ]
          },
          "metadata": {},
          "output_type": "display_data"
        }
      ],
      "source": [
        "df.describe()\n",
        "\n",
        "df_business_understanding_short = df_business_understanding.iloc[:,1:21]\n",
        "\n",
        "df_business_understanding_short = df_business_understanding_short.drop(['CUPO_L1', 'Subsegmento','Internauta','Adicional','Dualidad','Monoproducto','Ctacte','Consumo','Debito','CambioPin','Hipotecario','Cuentas','TC','Region'], axis=1)\n",
        "\n",
        "df_business_understanding_short.head()\n",
        "\n",
        "#Grafico de caja para las variables numéricas de df_business_understanding_short\n",
        "\n",
        "plt.figure(figsize=(15, 10))\n",
        "ax = sns.boxplot(data=df_business_understanding_short, orient=\"h\", palette=\"Set2\")\n",
        "plt.title('Diagrama de Caja de las Variables Numéricas')\n",
        "plt.xlabel('Valores')\n",
        "plt.ylabel('Variables')\n",
        "plt.show()"
      ]
    },
    {
      "cell_type": "code",
      "execution_count": null,
      "metadata": {},
      "outputs": [],
      "source": []
    },
    {
      "cell_type": "code",
      "execution_count": 1174,
      "metadata": {},
      "outputs": [
        {
          "name": "stdout",
          "output_type": "stream",
          "text": [
            "La cantidad de outliers de la variable Edad es 778\n",
            "El porcentaje de outliers de la variable Edad es 1.52%\n",
            "\n",
            "La cantidad de outliers de la variable Antigüedad es 2670\n",
            "El porcentaje de outliers de la variable Antigüedad es 5.22%\n"
          ]
        }
      ],
      "source": [
        "# sacar la cantidad de outliers para edad y antiguedad\n",
        "q1 = df_business_understanding_short['Edad'].quantile(0.25)\n",
        "q3 = df_business_understanding_short['Edad'].quantile(0.75)\n",
        "iqr = q3 - q1\n",
        "\n",
        "print(f\"La cantidad de outliers de la variable Edad es {df_business_understanding_short['Edad'][df_business_understanding_short['Edad'] > q3 + 1.5 * iqr].count()}\")\n",
        "print(f\"El porcentaje de outliers de la variable Edad es {round(df_business_understanding_short['Edad'][df_business_understanding_short['Edad'] > q3 + 1.5 * iqr].count() / df_business_understanding_short.shape[0] * 100, 2)}%\\n\")\n",
        "\n",
        "\n",
        "q1 = df_business_understanding_short['Antiguedad'].quantile(0.25)\n",
        "q3 = df_business_understanding_short['Antiguedad'].quantile(0.75)\n",
        "iqr = q3 - q1\n",
        "print(\n",
        "    f\"La cantidad de outliers de la variable Antigüedad es {df_business_understanding_short['Antiguedad'][df_business_understanding_short['Antiguedad'] > q3 + 1.5 * iqr].count()}\")\n",
        "print(\n",
        "    f\"El porcentaje de outliers de la variable Antigüedad es {round(df_business_understanding_short['Antiguedad'][df_business_understanding_short['Antiguedad'] > q3 + 1.5 * iqr].count() / df_business_understanding_short.shape[0] * 100, 2)}%\")\n",
        "\n"
      ]
    },
    {
      "cell_type": "markdown",
      "metadata": {},
      "source": [
        "**Recomendación:** Dejar los datos atipicos, ya que serán importantes para predecir los futuros target preseleccionados "
      ]
    },
    {
      "cell_type": "markdown",
      "metadata": {},
      "source": [
        "#### 5. Búsqueda de valores nulos df_monthly\n",
        "\n",
        "##### 5.1 Datos Nulos df_monthly\n"
      ]
    },
    {
      "cell_type": "code",
      "execution_count": 1175,
      "metadata": {},
      "outputs": [
        {
          "data": {
            "text/plain": [
              "TxsCCPC_T03       0.019560\n",
              "TxsCCOT_T03       0.019560\n",
              "FacCOL_T03        0.019560\n",
              "TxsCOL_T03        0.019560\n",
              "FacDebCom_T03     0.019560\n",
              "                   ...    \n",
              "FacDebCom_T12    16.139191\n",
              "TxsCOL_T12       16.139191\n",
              "FacCOL_T12       16.139191\n",
              "ColL2AC_T12      16.139191\n",
              "FlgAct_T12       16.139191\n",
              "Length: 506, dtype: float64"
            ]
          },
          "execution_count": 1175,
          "metadata": {},
          "output_type": "execute_result"
        }
      ],
      "source": [
        "#Saber porcentaje de valores nulos por columna\n",
        "null_counts = df_monthly.isnull().sum()\n",
        "null_counts[null_counts > 0].sort_values(ascending=True) / df.shape[0] * 100\n"
      ]
    },
    {
      "cell_type": "markdown",
      "metadata": {},
      "source": [
        "##### 5.2 Datos Nulos df_monthly por cantidad de valores"
      ]
    },
    {
      "cell_type": "code",
      "execution_count": 1176,
      "metadata": {},
      "outputs": [
        {
          "data": {
            "text/plain": [
              "FlgAct_T12       8251\n",
              "ColL2CC_T12      8251\n",
              "TxsCOL_T12       8251\n",
              "FacDebCom_T12    8251\n",
              "TxsDebCom_T12    8251\n",
              "dtype: int64"
            ]
          },
          "execution_count": 1176,
          "metadata": {},
          "output_type": "execute_result"
        }
      ],
      "source": [
        "null_counts[null_counts > 0].sort_values(ascending=False).head()\n"
      ]
    },
    {
      "cell_type": "code",
      "execution_count": 1177,
      "metadata": {},
      "outputs": [
        {
          "data": {
            "text/plain": [
              "TxsCCPC_T03      10\n",
              "TxsCCOT_T03      10\n",
              "FacCOL_T03       10\n",
              "TxsCOL_T03       10\n",
              "FacDebCom_T03    10\n",
              "dtype: int64"
            ]
          },
          "execution_count": 1177,
          "metadata": {},
          "output_type": "execute_result"
        }
      ],
      "source": [
        "null_counts[null_counts > 0].sort_values(ascending=True).head()\n"
      ]
    },
    {
      "cell_type": "markdown",
      "metadata": {},
      "source": [
        "**Recomendación**: Imputar los valores nulos de todas las columnas por 0, ya que al ser montos monetarios y cantidades de transacciones, si el banco los tiene como valores nulos, quiere decir que no hay movimientos en ese mes, sino el banco estaria perdiendo información relevante para su correcto funcionamiento."
      ]
    },
    {
      "cell_type": "markdown",
      "metadata": {
        "id": "6Pw3f3A0L6dk"
      },
      "source": [
        "## Fase 3: Data Preparation "
      ]
    },
    {
      "cell_type": "markdown",
      "metadata": {},
      "source": [
        "### Transformación, eliminación e imputación de datos"
      ]
    },
    {
      "cell_type": "markdown",
      "metadata": {},
      "source": [
        "#### 1. Unificación de datos nulos\n",
        "\n",
        "Debido a que es probable que hayan datos nulos escritos de diferentes maneras, dejaremos todos los datos como np.nan"
      ]
    },
    {
      "cell_type": "code",
      "execution_count": 1178,
      "metadata": {},
      "outputs": [],
      "source": [
        "na_values = ('np.nan','NA','NaN','nan','inf','NULL')\n",
        "df = df.replace(na_values, np.nan)"
      ]
    },
    {
      "cell_type": "markdown",
      "metadata": {},
      "source": [
        "#### 2. Cambio de sistema decimal y casteo a número\n",
        "\n",
        "##### 2.1 Cambiar las comas (,) por puntos (.) decimales"
      ]
    },
    {
      "cell_type": "code",
      "execution_count": 1179,
      "metadata": {},
      "outputs": [],
      "source": [
        "# reemplazar todas las comas , por puntos . en este dataframe df\n",
        "df.replace(to_replace=',', value='.', regex=True,inplace = True)\n"
      ]
    },
    {
      "cell_type": "markdown",
      "metadata": {},
      "source": [
        "##### 2.2 Casteo a integer si es posible"
      ]
    },
    {
      "cell_type": "code",
      "execution_count": 1180,
      "metadata": {},
      "outputs": [],
      "source": [
        "# intentar castear todos los registros del dataframe en float64 solo si es posible\n",
        "df = df.apply(pd.to_numeric, errors='ignore', downcast='integer')\n"
      ]
    },
    {
      "cell_type": "markdown",
      "metadata": {},
      "source": [
        "#### 3. Imputación moda y One-hot encoding para IndRev_T01 a IndRev_T12\n",
        "\n",
        "Se imputara usando la moda y se realizara One-hot encoding para las columnas mencionadas"
      ]
    },
    {
      "cell_type": "code",
      "execution_count": 1181,
      "metadata": {},
      "outputs": [
        {
          "name": "stdout",
          "output_type": "stream",
          "text": [
            "Ahora la columna IndRev_T01 no posee nulos\n",
            "Se ha realizado One-hot encoding para la columna IndRev_T01\n",
            "\n",
            "Columna IndRev_T02 ha cambiado sus valores nulos por R\n",
            "Ahora la columna IndRev_T02 no posee nulos\n",
            "Se ha realizado One-hot encoding para la columna IndRev_T02\n",
            "\n",
            "Columna IndRev_T03 ha cambiado sus valores nulos por R\n",
            "Ahora la columna IndRev_T03 no posee nulos\n",
            "Se ha realizado One-hot encoding para la columna IndRev_T03\n",
            "\n",
            "Columna IndRev_T04 ha cambiado sus valores nulos por R\n",
            "Ahora la columna IndRev_T04 no posee nulos\n",
            "Se ha realizado One-hot encoding para la columna IndRev_T04\n",
            "\n",
            "Columna IndRev_T05 ha cambiado sus valores nulos por R\n",
            "Ahora la columna IndRev_T05 no posee nulos\n",
            "Se ha realizado One-hot encoding para la columna IndRev_T05\n",
            "\n",
            "Columna IndRev_T06 ha cambiado sus valores nulos por R\n",
            "Ahora la columna IndRev_T06 no posee nulos\n",
            "Se ha realizado One-hot encoding para la columna IndRev_T06\n",
            "\n",
            "Columna IndRev_T07 ha cambiado sus valores nulos por R\n",
            "Ahora la columna IndRev_T07 no posee nulos\n",
            "Se ha realizado One-hot encoding para la columna IndRev_T07\n",
            "\n",
            "Columna IndRev_T08 ha cambiado sus valores nulos por R\n",
            "Ahora la columna IndRev_T08 no posee nulos\n",
            "Se ha realizado One-hot encoding para la columna IndRev_T08\n",
            "\n",
            "Columna IndRev_T09 ha cambiado sus valores nulos por R\n",
            "Ahora la columna IndRev_T09 no posee nulos\n",
            "Se ha realizado One-hot encoding para la columna IndRev_T09\n",
            "\n",
            "Columna IndRev_T10 ha cambiado sus valores nulos por R\n",
            "Ahora la columna IndRev_T10 no posee nulos\n",
            "Se ha realizado One-hot encoding para la columna IndRev_T10\n",
            "\n",
            "Columna IndRev_T11 ha cambiado sus valores nulos por R\n",
            "Ahora la columna IndRev_T11 no posee nulos\n",
            "Se ha realizado One-hot encoding para la columna IndRev_T11\n",
            "\n",
            "Columna IndRev_T12 ha cambiado sus valores nulos por R\n",
            "Ahora la columna IndRev_T12 no posee nulos\n",
            "Se ha realizado One-hot encoding para la columna IndRev_T12\n",
            "\n"
          ]
        }
      ],
      "source": [
        "for i in range(1,13):\n",
        "    name = 'IndRev_T'\n",
        "    if i < 10:\n",
        "        name = name + '0'+ str(i)\n",
        "    else:\n",
        "        name = name + str(i) \n",
        "    if df[name].isna().sum() != 0:\n",
        "\n",
        "        mode_name = df[name].mode()[0]\n",
        "        df[name].fillna(mode_name, inplace=True)\n",
        "        print(f'Columna {name} ha cambiado sus valores nulos por {mode_name}')\n",
        "\n",
        "    print(f'Ahora la columna {name} no posee nulos')\n",
        "    df = pd.get_dummies(df, columns=[name])\n",
        "    print(f'Se ha realizado One-hot encoding para la columna {name}\\n')\n"
      ]
    },
    {
      "cell_type": "markdown",
      "metadata": {},
      "source": [
        "#### 4. Imputación de datos mensuales\n",
        "\n",
        "Se imputarán los datos de pago, cobros, recibos y cantidad de transacciones de las columnas mensuales en 0, para eso necesitamos saber que columna es el primer (FlgAct_T12) y último (UsoLI_T01) valor de las colmnas mensuales\n"
      ]
    },
    {
      "cell_type": "code",
      "execution_count": 1182,
      "metadata": {},
      "outputs": [
        {
          "name": "stdout",
          "output_type": "stream",
          "text": [
            "Columna FlgAct_T12 es la número 21\n",
            "Columna UsoLI_T01 es la número 560\n"
          ]
        }
      ],
      "source": [
        "print(f'Columna FlgAct_T12 es la número {df.columns.get_loc(\"FlgAct_T12\")}')\n",
        "print(f'Columna UsoLI_T01 es la número {df.columns.get_loc(\"UsoLI_T01\")}')\n"
      ]
    },
    {
      "cell_type": "markdown",
      "metadata": {},
      "source": [
        "Teniendo el número de las columnas procederemos con el intercambio de null a 0"
      ]
    },
    {
      "cell_type": "code",
      "execution_count": 1183,
      "metadata": {},
      "outputs": [],
      "source": [
        "df.iloc[:, 21:561] = df.iloc[:, 21:561].fillna(0)\n"
      ]
    },
    {
      "cell_type": "markdown",
      "metadata": {},
      "source": [
        "Revisión de columnas con datos nulos"
      ]
    },
    {
      "cell_type": "code",
      "execution_count": 1184,
      "metadata": {},
      "outputs": [
        {
          "data": {
            "text/plain": [
              "CambioPin    19388\n",
              "Renta        13365\n",
              "Region          53\n",
              "Sexo             1\n",
              "dtype: int64"
            ]
          },
          "execution_count": 1184,
          "metadata": {},
          "output_type": "execute_result"
        }
      ],
      "source": [
        "null_counts = df.isnull().sum()\n",
        "null_counts[null_counts > 0].sort_values(ascending=False)\n"
      ]
    },
    {
      "cell_type": "markdown",
      "metadata": {},
      "source": [
        "#### 5. Eliminación de Cambio de pin\n",
        "\n",
        "Dada la recomendación en el punto anterior, eliminaremos la columnda cambio de pin, ya que es irrelevante el cambio de la clave de la tarjeta para predecir nuestro target."
      ]
    },
    {
      "cell_type": "code",
      "execution_count": 1185,
      "metadata": {},
      "outputs": [],
      "source": [
        "df = df.drop(['CambioPin'], axis=1)\n"
      ]
    },
    {
      "cell_type": "markdown",
      "metadata": {},
      "source": [
        "#### 6. Imputación de sexo\n",
        "\n",
        "Debido a que sólo uno(1) es el dato faltante, procederemos a reemplazar el valor con la Moda"
      ]
    },
    {
      "cell_type": "code",
      "execution_count": 1186,
      "metadata": {},
      "outputs": [],
      "source": [
        "mode_sexo = df['Sexo'].mode()[0]\n",
        "df['Sexo'].fillna(mode_sexo, inplace=True)\n"
      ]
    },
    {
      "cell_type": "markdown",
      "metadata": {},
      "source": [
        "Revision de estado de los nulos para sexo"
      ]
    },
    {
      "cell_type": "code",
      "execution_count": 1187,
      "metadata": {},
      "outputs": [
        {
          "name": "stdout",
          "output_type": "stream",
          "text": [
            "Valores nulos de la columna Sexo -> 0\n"
          ]
        }
      ],
      "source": [
        "null_values_sexo = df['Sexo'].isna().sum()\n",
        "print(f\"Valores nulos de la columna Sexo -> {null_values_sexo}\")\n"
      ]
    },
    {
      "cell_type": "markdown",
      "metadata": {},
      "source": [
        "Ahora que no existen valores nulos se realizara one-hot-coding para la variable sexo"
      ]
    },
    {
      "cell_type": "code",
      "execution_count": 1188,
      "metadata": {},
      "outputs": [],
      "source": [
        "df = pd.get_dummies(df, columns=['Sexo'])"
      ]
    },
    {
      "cell_type": "markdown",
      "metadata": {},
      "source": [
        "Renombraremos las columnas H por Hombre y M por Mujer"
      ]
    },
    {
      "cell_type": "code",
      "execution_count": 1189,
      "metadata": {},
      "outputs": [],
      "source": [
        "df.rename(columns={'Sexo_H':'Sexo_Hombre','Sexo_M':'Sexo_Mujer'}, inplace=True)"
      ]
    },
    {
      "cell_type": "markdown",
      "metadata": {},
      "source": [
        "Revisaremos el tipo de datos para las columnas Sexo_Hombre y Sexo_Mujer"
      ]
    },
    {
      "cell_type": "code",
      "execution_count": 1190,
      "metadata": {},
      "outputs": [
        {
          "name": "stdout",
          "output_type": "stream",
          "text": [
            "Tipo de dato de la columna Sexo_Hombre -> bool\n",
            "Tipo de dato de la columna Sexo_Mujer -> bool\n"
          ]
        }
      ],
      "source": [
        "data_type_hombre = df['Sexo_Hombre'].dtype\n",
        "print(f\"Tipo de dato de la columna Sexo_Hombre -> {data_type_hombre}\")\n",
        "data_type_mujer = df['Sexo_Mujer'].dtype\n",
        "print(f\"Tipo de dato de la columna Sexo_Mujer -> {data_type_mujer}\")\n"
      ]
    },
    {
      "cell_type": "markdown",
      "metadata": {},
      "source": [
        "#### 7. Imputación a Región\n",
        "\n",
        "Debido a que sólo cincuenta y tres (0,001 %) son los dato faltante, procederemos a reemplazar los valores con la Moda"
      ]
    },
    {
      "cell_type": "code",
      "execution_count": 1191,
      "metadata": {},
      "outputs": [],
      "source": [
        "mode_region = df['Region'].mode()[0]\n",
        "df['Region'].fillna(mode_region, inplace=True)\n"
      ]
    },
    {
      "cell_type": "markdown",
      "metadata": {},
      "source": [
        "Revision de estado de los nulos para Region"
      ]
    },
    {
      "cell_type": "code",
      "execution_count": 1192,
      "metadata": {},
      "outputs": [
        {
          "name": "stdout",
          "output_type": "stream",
          "text": [
            "Valores nulos de la columna Region -> 0\n"
          ]
        }
      ],
      "source": [
        "null_values_region = df['Region'].isna().sum()\n",
        "print(f\"Valores nulos de la columna Region -> {null_values_region}\")\n"
      ]
    },
    {
      "cell_type": "markdown",
      "metadata": {},
      "source": [
        "#### 8. Eliminación de tablas Dualidad y Monoproducto\n",
        "\n",
        "Debido a que Dualidad hace referencia a si un cliente tiene 2 o mas TC, Monoproducto a si posee sólo 1 y TC a la cantidad total de TC, hemos decido eliminar las columas Dual y Monoproducto porque entregan información repetida y la información de dichas columnas no concuerdan. \n",
        "\n",
        "Se procede a la eliminación de las columnas"
      ]
    },
    {
      "cell_type": "code",
      "execution_count": 1193,
      "metadata": {},
      "outputs": [],
      "source": [
        "df = df.drop(['Dualidad','Monoproducto'], axis=1)"
      ]
    },
    {
      "cell_type": "markdown",
      "metadata": {},
      "source": [
        "#### 9. Eliminación de Id"
      ]
    },
    {
      "cell_type": "code",
      "execution_count": 1194,
      "metadata": {},
      "outputs": [],
      "source": [
        "df = df.drop(\"Id\", axis=1)"
      ]
    },
    {
      "cell_type": "markdown",
      "metadata": {},
      "source": [
        "#### 10. Imputar datos a la columna Renta\n",
        "\n",
        "Imputaremos la variable Renta usando KNNImputer, ya que MICE aunque haga predicciones iterativas y progresivamente es mas precisa este presenta un error, no podemos afirmar que las variables esten correlacionadas linealmente. "
      ]
    },
    {
      "cell_type": "code",
      "execution_count": 1195,
      "metadata": {},
      "outputs": [],
      "source": [
        "imputer = KNNImputer(n_neighbors=500 , weights='distance')\n",
        "\n",
        "\n",
        "df[['Renta']] = imputer.fit_transform(df[['Renta']])\n"
      ]
    },
    {
      "cell_type": "markdown",
      "metadata": {},
      "source": [
        "Castemos el tipo de dato y la cantidad de nulos de Renta"
      ]
    },
    {
      "cell_type": "code",
      "execution_count": 1196,
      "metadata": {},
      "outputs": [
        {
          "name": "stdout",
          "output_type": "stream",
          "text": [
            "Valores nulos de la columna Renta -> 0\n",
            "Tipo de dato de la columna Renta -> float64\n"
          ]
        }
      ],
      "source": [
        "null_values_renta = df['Renta'].isna().sum()\n",
        "data_type_renta = df['Renta'].dtype\n",
        "\n",
        "print(f\"Valores nulos de la columna Renta -> {null_values_renta}\")\n",
        "print(f\"Tipo de dato de la columna Renta -> {data_type_renta}\")\n"
      ]
    },
    {
      "cell_type": "markdown",
      "metadata": {},
      "source": [
        "#### 11. Visualización de datos limpios"
      ]
    },
    {
      "cell_type": "code",
      "execution_count": 1197,
      "metadata": {},
      "outputs": [
        {
          "data": {
            "image/png": "[encoded data removed]",
            "text/plain": [
              "<Figure size 400x500 with 1 Axes>"
            ]
          },
          "metadata": {},
          "output_type": "display_data"
        }
      ],
      "source": [
        "data_types_counts = df.dtypes.value_counts()\n",
        "\n",
        "plt.figure(figsize=(4, 5))\n",
        "ax = data_types_counts.plot(kind='bar', rot=0, color='#59c9a5')\n",
        "\n",
        "for p in ax.patches:\n",
        "    ax.annotate(str(p.get_height()), (p.get_x() + p.get_width() / 2., p.get_height()),\n",
        "                ha='center', va='center', xytext=(0, 5), textcoords='offset points')\n",
        "\n",
        "plt.xlabel('Tipo de Dato')\n",
        "plt.ylabel('Cantidad')\n",
        "plt.title('Cantidad de cada Tipo de Dato en el DataFrame')\n",
        "plt.show()\n"
      ]
    },
    {
      "cell_type": "markdown",
      "metadata": {},
      "source": [
        "####  12. Revisión final luego de Data Preparation"
      ]
    },
    {
      "cell_type": "markdown",
      "metadata": {},
      "source": [
        "##### 12.1 Cantidad de nulos"
      ]
    },
    {
      "cell_type": "code",
      "execution_count": 1198,
      "metadata": {},
      "outputs": [
        {
          "name": "stdout",
          "output_type": "stream",
          "text": [
            "Cantidad total de nulos -> 0\n"
          ]
        }
      ],
      "source": [
        "print(f'Cantidad total de nulos -> {df.isna().sum().sum()}')"
      ]
    },
    {
      "cell_type": "markdown",
      "metadata": {},
      "source": [
        "#### 13. DataSet Limpio"
      ]
    },
    {
      "cell_type": "code",
      "execution_count": 1199,
      "metadata": {},
      "outputs": [
        {
          "data": {
            "text/html": [
              "<div>\n",
              "<style scoped>\n",
              "    .dataframe tbody tr th:only-of-type {\n",
              "        vertical-align: middle;\n",
              "    }\n",
              "\n",
              "    .dataframe tbody tr th {\n",
              "        vertical-align: top;\n",
              "    }\n",
              "\n",
              "    .dataframe thead th {\n",
              "        text-align: right;\n",
              "    }\n",
              "</style>\n",
              "<table border=\"1\" class=\"dataframe\">\n",
              "  <thead>\n",
              "    <tr style=\"text-align: right;\">\n",
              "      <th></th>\n",
              "      <th>Subsegmento</th>\n",
              "      <th>Region</th>\n",
              "      <th>Edad</th>\n",
              "      <th>Renta</th>\n",
              "      <th>Antiguedad</th>\n",
              "      <th>Internauta</th>\n",
              "      <th>Adicional</th>\n",
              "      <th>Ctacte</th>\n",
              "      <th>Consumo</th>\n",
              "      <th>Hipotecario</th>\n",
              "      <th>...</th>\n",
              "      <th>IndRev_T10_R</th>\n",
              "      <th>IndRev_T10_T</th>\n",
              "      <th>IndRev_T11_P</th>\n",
              "      <th>IndRev_T11_R</th>\n",
              "      <th>IndRev_T11_T</th>\n",
              "      <th>IndRev_T12_P</th>\n",
              "      <th>IndRev_T12_R</th>\n",
              "      <th>IndRev_T12_T</th>\n",
              "      <th>Sexo_Hombre</th>\n",
              "      <th>Sexo_Mujer</th>\n",
              "    </tr>\n",
              "  </thead>\n",
              "  <tbody>\n",
              "    <tr>\n",
              "      <th>0</th>\n",
              "      <td>160</td>\n",
              "      <td>13.0</td>\n",
              "      <td>43</td>\n",
              "      <td>663077.078726</td>\n",
              "      <td>130</td>\n",
              "      <td>1</td>\n",
              "      <td>1</td>\n",
              "      <td>1</td>\n",
              "      <td>0</td>\n",
              "      <td>0</td>\n",
              "      <td>...</td>\n",
              "      <td>True</td>\n",
              "      <td>False</td>\n",
              "      <td>False</td>\n",
              "      <td>True</td>\n",
              "      <td>False</td>\n",
              "      <td>False</td>\n",
              "      <td>True</td>\n",
              "      <td>False</td>\n",
              "      <td>False</td>\n",
              "      <td>True</td>\n",
              "    </tr>\n",
              "    <tr>\n",
              "      <th>1</th>\n",
              "      <td>160</td>\n",
              "      <td>13.0</td>\n",
              "      <td>46</td>\n",
              "      <td>143640.000000</td>\n",
              "      <td>69</td>\n",
              "      <td>1</td>\n",
              "      <td>0</td>\n",
              "      <td>1</td>\n",
              "      <td>0</td>\n",
              "      <td>1</td>\n",
              "      <td>...</td>\n",
              "      <td>True</td>\n",
              "      <td>False</td>\n",
              "      <td>False</td>\n",
              "      <td>True</td>\n",
              "      <td>False</td>\n",
              "      <td>False</td>\n",
              "      <td>True</td>\n",
              "      <td>False</td>\n",
              "      <td>True</td>\n",
              "      <td>False</td>\n",
              "    </tr>\n",
              "    <tr>\n",
              "      <th>2</th>\n",
              "      <td>170</td>\n",
              "      <td>13.0</td>\n",
              "      <td>45</td>\n",
              "      <td>929106.000000</td>\n",
              "      <td>24</td>\n",
              "      <td>1</td>\n",
              "      <td>1</td>\n",
              "      <td>1</td>\n",
              "      <td>0</td>\n",
              "      <td>1</td>\n",
              "      <td>...</td>\n",
              "      <td>False</td>\n",
              "      <td>True</td>\n",
              "      <td>False</td>\n",
              "      <td>True</td>\n",
              "      <td>False</td>\n",
              "      <td>False</td>\n",
              "      <td>False</td>\n",
              "      <td>True</td>\n",
              "      <td>True</td>\n",
              "      <td>False</td>\n",
              "    </tr>\n",
              "    <tr>\n",
              "      <th>3</th>\n",
              "      <td>151</td>\n",
              "      <td>13.0</td>\n",
              "      <td>46</td>\n",
              "      <td>172447.000000</td>\n",
              "      <td>134</td>\n",
              "      <td>0</td>\n",
              "      <td>1</td>\n",
              "      <td>0</td>\n",
              "      <td>0</td>\n",
              "      <td>0</td>\n",
              "      <td>...</td>\n",
              "      <td>True</td>\n",
              "      <td>False</td>\n",
              "      <td>False</td>\n",
              "      <td>True</td>\n",
              "      <td>False</td>\n",
              "      <td>False</td>\n",
              "      <td>True</td>\n",
              "      <td>False</td>\n",
              "      <td>True</td>\n",
              "      <td>False</td>\n",
              "    </tr>\n",
              "    <tr>\n",
              "      <th>4</th>\n",
              "      <td>170</td>\n",
              "      <td>13.0</td>\n",
              "      <td>46</td>\n",
              "      <td>805250.000000</td>\n",
              "      <td>116</td>\n",
              "      <td>0</td>\n",
              "      <td>1</td>\n",
              "      <td>1</td>\n",
              "      <td>0</td>\n",
              "      <td>1</td>\n",
              "      <td>...</td>\n",
              "      <td>False</td>\n",
              "      <td>True</td>\n",
              "      <td>False</td>\n",
              "      <td>False</td>\n",
              "      <td>True</td>\n",
              "      <td>False</td>\n",
              "      <td>False</td>\n",
              "      <td>True</td>\n",
              "      <td>True</td>\n",
              "      <td>False</td>\n",
              "    </tr>\n",
              "  </tbody>\n",
              "</table>\n",
              "<p>5 rows × 595 columns</p>\n",
              "</div>"
            ],
            "text/plain": [
              "   Subsegmento  Region  Edad          Renta  Antiguedad  Internauta  \\\n",
              "0          160    13.0    43  663077.078726         130           1   \n",
              "1          160    13.0    46  143640.000000          69           1   \n",
              "2          170    13.0    45  929106.000000          24           1   \n",
              "3          151    13.0    46  172447.000000         134           0   \n",
              "4          170    13.0    46  805250.000000         116           0   \n",
              "\n",
              "   Adicional  Ctacte  Consumo  Hipotecario  ...  IndRev_T10_R  IndRev_T10_T  \\\n",
              "0          1       1        0            0  ...          True         False   \n",
              "1          0       1        0            1  ...          True         False   \n",
              "2          1       1        0            1  ...         False          True   \n",
              "3          1       0        0            0  ...          True         False   \n",
              "4          1       1        0            1  ...         False          True   \n",
              "\n",
              "   IndRev_T11_P  IndRev_T11_R  IndRev_T11_T  IndRev_T12_P  IndRev_T12_R  \\\n",
              "0         False          True         False         False          True   \n",
              "1         False          True         False         False          True   \n",
              "2         False          True         False         False         False   \n",
              "3         False          True         False         False          True   \n",
              "4         False         False          True         False         False   \n",
              "\n",
              "   IndRev_T12_T  Sexo_Hombre  Sexo_Mujer  \n",
              "0         False        False        True  \n",
              "1         False         True       False  \n",
              "2          True         True       False  \n",
              "3         False         True       False  \n",
              "4          True         True       False  \n",
              "\n",
              "[5 rows x 595 columns]"
            ]
          },
          "execution_count": 1199,
          "metadata": {},
          "output_type": "execute_result"
        }
      ],
      "source": [
        "df.head()"
      ]
    },
    {
      "cell_type": "markdown",
      "metadata": {
        "id": "SmI1A3MTHk-g"
      },
      "source": [
        "## Fase 4: Modeling"
      ]
    },
    {
      "cell_type": "markdown",
      "metadata": {
        "id": "ykm_OvKfeF_-"
      },
      "source": [
        "### Regresión\n",
        "\n",
        "#### Target seleccionado : Sexo\n",
        "\n"
      ]
    },
    {
      "cell_type": "markdown",
      "metadata": {
        "id": "X44ibsqteJZg"
      },
      "source": [
        "### Clasificación\n",
        "\n",
        "#### Target seleccionado : CUPO_L1 \n",
        "\n"
      ]
    },
    {
      "cell_type": "markdown",
      "metadata": {
        "id": "lkFTbqriH1vx"
      },
      "source": [
        "## Fase 5: Evaluation"
      ]
    },
    {
      "cell_type": "markdown",
      "metadata": {
        "id": "Mo7mbKVRH8y4"
      },
      "source": [
        "## Fase 5: Deployment"
      ]
    }
  ],
  "metadata": {
    "colab": {
      "provenance": [],
      "toc_visible": true
    },
    "kernelspec": {
      "display_name": "Python 3",
      "name": "python3"
    },
    "language_info": {
      "codemirror_mode": {
        "name": "ipython",
        "version": 3
      },
      "file_extension": ".py",
      "mimetype": "text/x-python",
      "name": "python",
      "nbconvert_exporter": "python",
      "pygments_lexer": "ipython3",
      "version": "3.10.5"
    }
  },
  "nbformat": 4,
  "nbformat_minor": 0
}

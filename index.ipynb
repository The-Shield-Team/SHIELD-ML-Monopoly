{
  "cells": [
    {
      "cell_type": "markdown",
      "metadata": {
        "id": "1_uzZv_A24AG"
      },
      "source": [
        "<h1><center>Plantilla CRISP-DM: \"Monopoly Bank Dataset\"</center></h1> \n",
        "\n",
        "\n",
        "\n",
        "<video src=\"Designer.mp4\" width=\"100%\" height=\"300\" title=\"Title\" autoplay muted></video>\n",
        "\n",
        "Equipo: The Shield\n",
        "\n",
        "Integrantes: \n",
        "* Cristian Contreras\n",
        "* Nicolas Dávila\n",
        "* Alejandro Ferrera\n",
        "\n",
        "Docente:     CHRISTIAN MANUEL ALVAREZ CARREÑO"
      ]
    },
    {
      "cell_type": "markdown",
      "metadata": {
        "id": "wQ2GvGhUIoVU"
      },
      "source": [
        "| Variable       | Transformación           | Valor    | Descripción                                                   |\n",
        "|----------------|--------------------------|----------|---------------------------------------------------------------|\n",
        "| CORRELATIVO    | Ninguna                  | 518050   | Identificador cliente                                        |\n",
        "| Region         | Ninguna                  | 13       | Región de Residencia                                         |\n",
        "| Renta          | Ninguna                  | NULL     | Renta del cliente                                            |\n",
        "| Sexo           | Ninguna                  | M        | Sexo                                                         |\n",
        "| Subsegmento    | Ninguna                  | 151      | Subsegmento                                                  |\n",
        "| Edad           | Ninguna                  | 39       | Edad                                                         |\n",
        "| Adicional      | Ninguna                  | 0        | Indicador de Tenencia de TC adicionales                      |\n",
        "| Antiguedad     | Ninguna                  | 78       | Antigüedad del cliente (meses)                               |\n",
        "| CambioPin      | Ninguna                  | NULL     | Indicador del cambio de clave secreta de la tarjeta          |\n",
        "| Consumo        | Ninguna                  | 0        | Indicador de Crédito de Consumo                              |\n",
        "| Debito         | Ninguna                  | 1        | Indicador de Tenencia de TD                                  |\n",
        "| Ctacte         | Ninguna                  | 1        | Indicador de Cuenta Corriente                                |\n",
        "| Cuentas        | Ninguna                  | 1        | Número de cuentas que tiene el cliente                       |\n",
        "| Hipotecario    | Ninguna                  | 0        | Indicador de Crédito Hipotecario                            |\n",
        "| Internauta     | Ninguna                  | 1        | Indicador de cliente Internauta que usa la web Monopoly     |\n",
        "| Monoproducto   | Ninguna                  | 0        | Indicador de si el cliente es solo poseedor de una TC       |\n",
        "| TC             | Ninguna                  | 1        | Número de TC que tiene el cliente                           |\n",
        "| Dualidad       | Ninguna                  | 0        | Indicador de Dualidad (Cliente es dual si tiene 2 o más TC) |\n",
        "| CUPO_L1        | Ninguna                  | 1800000  | Cupo de la tarjeta crédito para compras nacionales          |\n",
        "| CUPO_MX        | Ninguna                  | 3750     | Cupo de la tarjeta crédito para compras internacionales     |\n",
        "| CUPO_L2        | Ninguna                  | 1        | Cupo de la tarjeta crédito para avances en cuotas           |\n",
        "| Col_T12        | Promedio                 | 0        | Colocación del cliente en TC en el mes X                    |\n",
        "| ColL1TE_T12    |                          | 0        | Revolving del cliente en TC en el mes X                      |\n",
        "| EeccInt_T12    | Promedio                 | 0        | Monto internacional exigido en el estado de cuenta en el mes X del cliente |\n",
        "| EeccNac_T12    | Promedio                 | -12178   | Monto nacional exigido en el estado de cuenta en el mes X del cliente |\n",
        "| Fac_T12        | Promedio                 | 0        | Monto facturado por el cliente en TC en el mes X            |\n",
        "| FacAI_T12      | Promedio                 | 0        | Monto facturado en avances internacionales por el cliente en TC en el mes X |\n",
        "| FacAN_T12      | Promedio                 | 0        | Monto facturado en avances nacionales por el cliente en TC en el mes X |\n",
        "| FacCCOT_T12    | Promedio                 | 0        | Monto facturado en compras en cuotas con tasa por el cliente en TC en el mes X |\n",
        "| FacCCPC_T12    | Promedio                 | 0        | Monto facturado en compras en cuotas precio contado por el cliente en TC en el mes X |\n",
        "| FacCI_T12      | Promedio                 | 0        | Monto facturado en compras internacionales por el cliente en TC en el mes X |\n",
        "| FacCN_T12      | Promedio                 | 0        | Monto facturado en compras nacionales por el cliente en TC en el mes X |\n",
        "| FacCOL_T12     | Promedio                 | 0        | Monto facturado en avances en cuotas por el cliente en TC en el mes X |\n",
        "| FacDebAtm_T12  | Promedio                 | 800000   | Monto facturado en avances por el cliente en TD en el mes X  |\n",
        "| ...            | ...                      | ...      | ...                                                           |\n",
        "| Txs_T12        | Suma                     | 0        | Número de transacciones realizados por el cliente en TC en el mes X |\n",
        "| TxsAI_T12      | Suma                     | 0        | Número de transacciones en avances internacionales realizados por el cliente en TC en el mes X |\n",
        "| TxsAN_T12      | Suma                     | 0        | Número de transacciones en avances nacionales realizados por el cliente en TC en el mes X |\n",
        "| TxsCCOT_T12    | Suma                     | 0        | Número de transacciones en compras en cuotas con tasa realizados por el cliente en TC en el mes X |\n",
        "| TxsCCPC_T12    | Suma                     | 0        | Número de transacciones en compras en cuotas precio contado realizados por el cliente en TC en el mes X |\n",
        "| TxsCI_T12      | Suma                     | 0        | Número de transacciones en compras internacionales realizados por el cliente en TC en el mes X |\n",
        "| TxsCN_T12      | Suma                     | 0        | Número de transacciones en compras nacionales realizados por el cliente en TC en el mes X |\n",
        "| TxsCOL_T12     | Suma                     | 0        | Número de transacciones en avances en cuotas por el cliente en TC en el mes X |\n",
        "| TxsDebAtm_T12  | Suma                     | 5        | Número de transacciones en avances realizados por el cliente en TD en el mes X |\n",
        "| ...            | ...                      | ...      | ...                                                           |\n",
        "| UsoLI_T12      | Promedio                 | 0        | Monto de deuda en la línea de compras internacionales en la TC en el mes X |\n"
      ]
    },
    {
      "cell_type": "markdown",
      "metadata": {
        "id": "4A4gycH0KmTH"
      },
      "source": [
        "## Fase 1: Business Understanding "
      ]
    },
    {
      "cell_type": "code",
      "execution_count": null,
      "metadata": {
        "id": "JE0PhA0QAzVa"
      },
      "outputs": [],
      "source": [
        "# Insertar cuantos bloques de código y markdown consideren necesarios\n",
        "\n",
        "# Se recomienda investigar sobre el contexto de negocio, sobre los datos, uso de \n",
        "# los campos en estadísticas de juegos, ver en qué se relacionan los contenidos \n",
        "# revisados en la asignatura con lo planteado como caso de estudio.\n",
        "# Plantear hipótesis del negocio posibles para objetivos de tareas de regresión y de clasificación"
      ]
    },
    {
      "cell_type": "markdown",
      "metadata": {
        "id": "0XinrQvBK1D7"
      },
      "source": [
        "## Fase 2: Data Understanding "
      ]
    },
    {
      "cell_type": "code",
      "execution_count": null,
      "metadata": {
        "id": "C3WMByhCLpTr"
      },
      "outputs": [],
      "source": [
        "# Insertar cuantos bloques de código consideren necesarios\n",
        "\n",
        "# Se recomienda obtener estadísticos descriptivos para apoyar hipótesis inferenciales. \n",
        "# Reconocer la naturaleza de los datos y como tratarlos en etapas posteriores y dar ideas de como se podría transformar.\n",
        "# Identificar MissingValues, outliers, medidas de posición, medidas de dispersión etc."
      ]
    },
    {
      "cell_type": "markdown",
      "metadata": {
        "id": "6Pw3f3A0L6dk"
      },
      "source": [
        "## Fase 3: Data Preparation "
      ]
    },
    {
      "cell_type": "code",
      "execution_count": null,
      "metadata": {
        "id": "mklB6oEmMHuz"
      },
      "outputs": [],
      "source": [
        "# Insertar cuantos bloques de código consideren necesarios\n",
        "\n",
        "# Se recomienda considerar todas las transformaciones necesarias para obtener la data lo más limpia posible.\n",
        "# Realizar tratamiento a todos los datos que consideren necesarios."
      ]
    },
    {
      "cell_type": "markdown",
      "metadata": {
        "id": "SmI1A3MTHk-g"
      },
      "source": [
        "## Fase 4: Modeling"
      ]
    },
    {
      "cell_type": "markdown",
      "metadata": {
        "id": "ykm_OvKfeF_-"
      },
      "source": [
        "### Regresión"
      ]
    },
    {
      "cell_type": "code",
      "execution_count": null,
      "metadata": {
        "id": "kEotGNEqHrbD"
      },
      "outputs": [],
      "source": [
        "# Insertar cuantos bloques de código consideren necesarios\n",
        "\n",
        "# Realizar tarea de regresión de datos orientado al caso entregado"
      ]
    },
    {
      "cell_type": "markdown",
      "metadata": {
        "id": "X44ibsqteJZg"
      },
      "source": [
        "### Clasificación\n",
        "\n"
      ]
    },
    {
      "cell_type": "code",
      "execution_count": null,
      "metadata": {
        "id": "h-yxIDVneQNY"
      },
      "outputs": [],
      "source": [
        "# Insertar cuantos bloques de código consideren necesarios\n",
        "\n",
        "# Realizar tarea de clasificación de datos orientado al caso entregado"
      ]
    },
    {
      "cell_type": "markdown",
      "metadata": {
        "id": "lkFTbqriH1vx"
      },
      "source": [
        "## Fase 5: Evaluation"
      ]
    },
    {
      "cell_type": "code",
      "execution_count": null,
      "metadata": {
        "id": "t_Dya779H3As"
      },
      "outputs": [],
      "source": [
        "# Insertar cuantos bloques de código consideren necesarios\n",
        "\n",
        "# Evaluar con las métricas que corresponda los mejores modelos, explicar cual es mejor para cada tarea y por qué"
      ]
    },
    {
      "cell_type": "markdown",
      "metadata": {
        "id": "Mo7mbKVRH8y4"
      },
      "source": [
        "## Fase 5: Deployment"
      ]
    },
    {
      "cell_type": "code",
      "execution_count": null,
      "metadata": {
        "id": "Nx4ot5vyfOSe"
      },
      "outputs": [],
      "source": [
        "# Insertar cuantos bloques de código consideren necesarios\n",
        "\n",
        "# Realizar despliegue del modelo"
      ]
    }
  ],
  "metadata": {
    "colab": {
      "provenance": [],
      "toc_visible": true
    },
    "kernelspec": {
      "display_name": "Python 3",
      "name": "python3"
    },
    "language_info": {
      "name": "python",
      "version": "3.10.6"
    }
  },
  "nbformat": 4,
  "nbformat_minor": 0
}

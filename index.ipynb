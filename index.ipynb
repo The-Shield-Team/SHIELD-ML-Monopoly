{
  "cells": [
    {
      "cell_type": "markdown",
      "metadata": {
        "id": "1_uzZv_A24AG"
      },
      "source": [
        "<h1><center>Plantilla CRISP-DM: \"Monopoly Bank Dataset\"</center></h1> \n",
        "<video src=\"Designer.mp4\" width=\"100%\" height=\"300\" title=\"Title\" autoplay muted loop></video>\n",
        "\n",
        "### **Equipo: The Shield**\n",
        "\n",
        "**Integrantes:** \n",
        "* Cristian Contreras\n",
        "* Nicolas Dávila\n",
        "* Alejandro Ferrera\n",
        "\n",
        "**Docente:**     CHRISTIAN MANUEL ALVAREZ CARREÑO"
      ]
    },
    {
      "cell_type": "markdown",
      "metadata": {
        "id": "wQ2GvGhUIoVU"
      },
      "source": [
        "| Variable       | Transformación           | Valor    | Descripción                                                   |\n",
        "|----------------|--------------------------|----------|---------------------------------------------------------------|\n",
        "| CORRELATIVO    | Ninguna                  | 518050   | Identificador cliente                                        |\n",
        "| Region         | Ninguna                  | 13       | Región de Residencia                                         |\n",
        "| Renta          | Ninguna                  | NULL     | Renta del cliente                                            |\n",
        "| Sexo           | Ninguna                  | M        | Sexo                                                         |\n",
        "| Subsegmento    | Ninguna                  | 151      | Subsegmento                                                  |\n",
        "| Edad           | Ninguna                  | 39       | Edad                                                         |\n",
        "| Adicional      | Ninguna                  | 0        | Indicador de Tenencia de TC adicionales                      |\n",
        "| Antiguedad     | Ninguna                  | 78       | Antigüedad del cliente (meses)                               |\n",
        "| CambioPin      | Ninguna                  | NULL     | Indicador del cambio de clave secreta de la tarjeta          |\n",
        "| Consumo        | Ninguna                  | 0        | Indicador de Crédito de Consumo                              |\n",
        "| Debito         | Ninguna                  | 1        | Indicador de Tenencia de TD                                  |\n",
        "| Ctacte         | Ninguna                  | 1        | Indicador de Cuenta Corriente                                |\n",
        "| Cuentas        | Ninguna                  | 1        | Número de cuentas que tiene el cliente                       |\n",
        "| Hipotecario    | Ninguna                  | 0        | Indicador de Crédito Hipotecario                            |\n",
        "| Internauta     | Ninguna                  | 1        | Indicador de cliente Internauta que usa la web Monopoly     |\n",
        "| Monoproducto   | Ninguna                  | 0        | Indicador de si el cliente es solo poseedor de una TC       |\n",
        "| TC             | Ninguna                  | 1        | Número de TC que tiene el cliente                           |\n",
        "| Dualidad       | Ninguna                  | 0        | Indicador de Dualidad (Cliente es dual si tiene 2 o más TC) |\n",
        "| CUPO_L1        | Ninguna                  | 1800000  | Cupo de la tarjeta crédito para compras nacionales          |\n",
        "| CUPO_MX        | Ninguna                  | 3750     | Cupo de la tarjeta crédito para compras internacionales     |\n",
        "| CUPO_L2        | Ninguna                  | 1        | Cupo de la tarjeta crédito para avances en cuotas           |\n",
        "| Col_T12        | Promedio                 | 0        | Colocación del cliente en TC en el mes X                    |\n",
        "| ColL1TE_T12    |                          | 0        | Revolving del cliente en TC en el mes X                      |\n",
        "| EeccInt_T12    | Promedio                 | 0        | Monto internacional exigido en el estado de cuenta en el mes X del cliente |\n",
        "| EeccNac_T12    | Promedio                 | -12178   | Monto nacional exigido en el estado de cuenta en el mes X del cliente |\n",
        "| Fac_T12        | Promedio                 | 0        | Monto facturado por el cliente en TC en el mes X            |\n",
        "| FacAI_T12      | Promedio                 | 0        | Monto facturado en avances internacionales por el cliente en TC en el mes X |\n",
        "| FacAN_T12      | Promedio                 | 0        | Monto facturado en avances nacionales por el cliente en TC en el mes X |\n",
        "| FacCCOT_T12    | Promedio                 | 0        | Monto facturado en compras en cuotas con tasa por el cliente en TC en el mes X |\n",
        "| FacCCPC_T12    | Promedio                 | 0        | Monto facturado en compras en cuotas precio contado por el cliente en TC en el mes X |\n",
        "| FacCI_T12      | Promedio                 | 0        | Monto facturado en compras internacionales por el cliente en TC en el mes X |\n",
        "| FacCN_T12      | Promedio                 | 0        | Monto facturado en compras nacionales por el cliente en TC en el mes X |\n",
        "| FacCOL_T12     | Promedio                 | 0        | Monto facturado en avances en cuotas por el cliente en TC en el mes X |\n",
        "| FacDebAtm_T12  | Promedio                 | 800000   | Monto facturado en avances por el cliente en TD en el mes X  |\n",
        "| ...            | ...                      | ...      | ...                                                           |\n",
        "| Txs_T12        | Suma                     | 0        | Número de transacciones realizados por el cliente en TC en el mes X |\n",
        "| TxsAI_T12      | Suma                     | 0        | Número de transacciones en avances internacionales realizados por el cliente en TC en el mes X |\n",
        "| TxsAN_T12      | Suma                     | 0        | Número de transacciones en avances nacionales realizados por el cliente en TC en el mes X |\n",
        "| TxsCCOT_T12    | Suma                     | 0        | Número de transacciones en compras en cuotas con tasa realizados por el cliente en TC en el mes X |\n",
        "| TxsCCPC_T12    | Suma                     | 0        | Número de transacciones en compras en cuotas precio contado realizados por el cliente en TC en el mes X |\n",
        "| TxsCI_T12      | Suma                     | 0        | Número de transacciones en compras internacionales realizados por el cliente en TC en el mes X |\n",
        "| TxsCN_T12      | Suma                     | 0        | Número de transacciones en compras nacionales realizados por el cliente en TC en el mes X |\n",
        "| TxsCOL_T12     | Suma                     | 0        | Número de transacciones en avances en cuotas por el cliente en TC en el mes X |\n",
        "| TxsDebAtm_T12  | Suma                     | 5        | Número de transacciones en avances realizados por el cliente en TD en el mes X |\n",
        "| ...            | ...                      | ...      | ...                                                           |\n",
        "| UsoLI_T12      | Promedio                 | 0        | Monto de deuda en la línea de compras internacionales en la TC en el mes X |\n"
      ]
    },
    {
      "cell_type": "markdown",
      "metadata": {
        "id": "4A4gycH0KmTH"
      },
      "source": [
        "## Fase 1: Business Understanding "
      ]
    },
    {
      "cell_type": "markdown",
      "metadata": {},
      "source": [
        "### Carga de dataset y dependencias"
      ]
    },
    {
      "cell_type": "code",
      "execution_count": 6,
      "metadata": {
        "id": "JE0PhA0QAzVa"
      },
      "outputs": [
        {
          "data": {
            "text/html": [
              "<div>\n",
              "<style scoped>\n",
              "    .dataframe tbody tr th:only-of-type {\n",
              "        vertical-align: middle;\n",
              "    }\n",
              "\n",
              "    .dataframe tbody tr th {\n",
              "        vertical-align: top;\n",
              "    }\n",
              "\n",
              "    .dataframe thead th {\n",
              "        text-align: right;\n",
              "    }\n",
              "</style>\n",
              "<table border=\"1\" class=\"dataframe\">\n",
              "  <thead>\n",
              "    <tr style=\"text-align: right;\">\n",
              "      <th></th>\n",
              "      <th>Id</th>\n",
              "      <th>Subsegmento</th>\n",
              "      <th>Sexo</th>\n",
              "      <th>Region</th>\n",
              "      <th>Edad</th>\n",
              "      <th>Renta</th>\n",
              "      <th>Antiguedad</th>\n",
              "      <th>Internauta</th>\n",
              "      <th>Adicional</th>\n",
              "      <th>Dualidad</th>\n",
              "      <th>...</th>\n",
              "      <th>ColMx_T01</th>\n",
              "      <th>PagoNac_T01</th>\n",
              "      <th>PagoInt_T01</th>\n",
              "      <th>EeccNac_T01</th>\n",
              "      <th>EeccInt_T01</th>\n",
              "      <th>UsoL1_T01</th>\n",
              "      <th>UsoL2_T01</th>\n",
              "      <th>UsoLI_T01</th>\n",
              "      <th>IndRev_T01</th>\n",
              "      <th>target</th>\n",
              "    </tr>\n",
              "  </thead>\n",
              "  <tbody>\n",
              "    <tr>\n",
              "      <th>0</th>\n",
              "      <td>1</td>\n",
              "      <td>160</td>\n",
              "      <td>M</td>\n",
              "      <td>13.0</td>\n",
              "      <td>43</td>\n",
              "      <td>NaN</td>\n",
              "      <td>130</td>\n",
              "      <td>1</td>\n",
              "      <td>1</td>\n",
              "      <td>0</td>\n",
              "      <td>...</td>\n",
              "      <td>0</td>\n",
              "      <td>33000</td>\n",
              "      <td>0</td>\n",
              "      <td>1099866</td>\n",
              "      <td>0</td>\n",
              "      <td>1099866</td>\n",
              "      <td>15080</td>\n",
              "      <td>0</td>\n",
              "      <td>R</td>\n",
              "      <td>0</td>\n",
              "    </tr>\n",
              "    <tr>\n",
              "      <th>1</th>\n",
              "      <td>2</td>\n",
              "      <td>160</td>\n",
              "      <td>H</td>\n",
              "      <td>13.0</td>\n",
              "      <td>46</td>\n",
              "      <td>143640</td>\n",
              "      <td>69</td>\n",
              "      <td>1</td>\n",
              "      <td>0</td>\n",
              "      <td>0</td>\n",
              "      <td>...</td>\n",
              "      <td>0</td>\n",
              "      <td>300000</td>\n",
              "      <td>0</td>\n",
              "      <td>214592</td>\n",
              "      <td>0</td>\n",
              "      <td>214592</td>\n",
              "      <td>83596</td>\n",
              "      <td>0</td>\n",
              "      <td>R</td>\n",
              "      <td>0</td>\n",
              "    </tr>\n",
              "    <tr>\n",
              "      <th>2</th>\n",
              "      <td>3</td>\n",
              "      <td>170</td>\n",
              "      <td>H</td>\n",
              "      <td>13.0</td>\n",
              "      <td>45</td>\n",
              "      <td>929106</td>\n",
              "      <td>24</td>\n",
              "      <td>1</td>\n",
              "      <td>1</td>\n",
              "      <td>0</td>\n",
              "      <td>...</td>\n",
              "      <td>0</td>\n",
              "      <td>216676</td>\n",
              "      <td>0</td>\n",
              "      <td>0</td>\n",
              "      <td>0</td>\n",
              "      <td>7400</td>\n",
              "      <td>0</td>\n",
              "      <td>0</td>\n",
              "      <td>T</td>\n",
              "      <td>0</td>\n",
              "    </tr>\n",
              "    <tr>\n",
              "      <th>3</th>\n",
              "      <td>4</td>\n",
              "      <td>151</td>\n",
              "      <td>H</td>\n",
              "      <td>13.0</td>\n",
              "      <td>46</td>\n",
              "      <td>172447</td>\n",
              "      <td>134</td>\n",
              "      <td>0</td>\n",
              "      <td>1</td>\n",
              "      <td>0</td>\n",
              "      <td>...</td>\n",
              "      <td>0</td>\n",
              "      <td>60000</td>\n",
              "      <td>0</td>\n",
              "      <td>272762</td>\n",
              "      <td>0</td>\n",
              "      <td>272762</td>\n",
              "      <td>10591</td>\n",
              "      <td>0</td>\n",
              "      <td>R</td>\n",
              "      <td>0</td>\n",
              "    </tr>\n",
              "    <tr>\n",
              "      <th>4</th>\n",
              "      <td>5</td>\n",
              "      <td>170</td>\n",
              "      <td>H</td>\n",
              "      <td>13.0</td>\n",
              "      <td>46</td>\n",
              "      <td>805250</td>\n",
              "      <td>116</td>\n",
              "      <td>0</td>\n",
              "      <td>1</td>\n",
              "      <td>1</td>\n",
              "      <td>...</td>\n",
              "      <td>0</td>\n",
              "      <td>272925</td>\n",
              "      <td>0</td>\n",
              "      <td>249562</td>\n",
              "      <td>0</td>\n",
              "      <td>75339</td>\n",
              "      <td>377782</td>\n",
              "      <td>0</td>\n",
              "      <td>R</td>\n",
              "      <td>0</td>\n",
              "    </tr>\n",
              "  </tbody>\n",
              "</table>\n",
              "<p>5 rows × 574 columns</p>\n",
              "</div>"
            ],
            "text/plain": [
              "   Id  Subsegmento Sexo  Region  Edad   Renta  Antiguedad  Internauta  \\\n",
              "0   1          160    M    13.0    43     NaN         130           1   \n",
              "1   2          160    H    13.0    46  143640          69           1   \n",
              "2   3          170    H    13.0    45  929106          24           1   \n",
              "3   4          151    H    13.0    46  172447         134           0   \n",
              "4   5          170    H    13.0    46  805250         116           0   \n",
              "\n",
              "   Adicional  Dualidad  ...  ColMx_T01  PagoNac_T01  PagoInt_T01  EeccNac_T01  \\\n",
              "0          1         0  ...          0        33000            0      1099866   \n",
              "1          0         0  ...          0       300000            0       214592   \n",
              "2          1         0  ...          0       216676            0            0   \n",
              "3          1         0  ...          0        60000            0       272762   \n",
              "4          1         1  ...          0       272925            0       249562   \n",
              "\n",
              "   EeccInt_T01  UsoL1_T01  UsoL2_T01  UsoLI_T01  IndRev_T01 target  \n",
              "0            0    1099866      15080          0           R      0  \n",
              "1            0     214592      83596          0           R      0  \n",
              "2            0       7400          0          0           T      0  \n",
              "3            0     272762      10591          0           R      0  \n",
              "4            0      75339     377782          0           R      0  \n",
              "\n",
              "[5 rows x 574 columns]"
            ]
          },
          "execution_count": 6,
          "metadata": {},
          "output_type": "execute_result"
        }
      ],
      "source": [
        "import pandas as pd\n",
        "import numpy as np\n",
        "import matplotlib.pyplot as plt\n",
        "\n",
        "#Carga de dataset\n",
        "\n",
        "df = pd.read_csv('Base_clientes_Monopoly.csv', sep=';', low_memory=False)\n",
        "df.head()"
      ]
    },
    {
      "cell_type": "markdown",
      "metadata": {
        "id": "0XinrQvBK1D7"
      },
      "source": [
        "## Fase 2: Data Understanding "
      ]
    },
    {
      "cell_type": "code",
      "execution_count": null,
      "metadata": {
        "id": "C3WMByhCLpTr"
      },
      "outputs": [],
      "source": [
        "# Insertar cuantos bloques de código consideren necesarios\n",
        "\n",
        "# Se recomienda obtener estadísticos descriptivos para apoyar hipótesis inferenciales. \n",
        "# Reconocer la naturaleza de los datos y como tratarlos en etapas posteriores y dar ideas de como se podría transformar.\n",
        "# Identificar MissingValues, outliers, medidas de posición, medidas de dispersión etc."
      ]
    },
    {
      "cell_type": "markdown",
      "metadata": {
        "id": "6Pw3f3A0L6dk"
      },
      "source": [
        "## Fase 3: Data Preparation "
      ]
    },
    {
      "cell_type": "code",
      "execution_count": null,
      "metadata": {
        "id": "mklB6oEmMHuz"
      },
      "outputs": [],
      "source": [
        "# Insertar cuantos bloques de código consideren necesarios\n",
        "\n",
        "# Se recomienda considerar todas las transformaciones necesarias para obtener la data lo más limpia posible.\n",
        "# Realizar tratamiento a todos los datos que consideren necesarios."
      ]
    },
    {
      "cell_type": "markdown",
      "metadata": {
        "id": "SmI1A3MTHk-g"
      },
      "source": [
        "## Fase 4: Modeling"
      ]
    },
    {
      "cell_type": "markdown",
      "metadata": {
        "id": "ykm_OvKfeF_-"
      },
      "source": [
        "### Regresión"
      ]
    },
    {
      "cell_type": "code",
      "execution_count": null,
      "metadata": {
        "id": "kEotGNEqHrbD"
      },
      "outputs": [],
      "source": [
        "# Insertar cuantos bloques de código consideren necesarios\n",
        "\n",
        "# Realizar tarea de regresión de datos orientado al caso entregado"
      ]
    },
    {
      "cell_type": "markdown",
      "metadata": {
        "id": "X44ibsqteJZg"
      },
      "source": [
        "### Clasificación\n",
        "\n"
      ]
    },
    {
      "cell_type": "code",
      "execution_count": null,
      "metadata": {
        "id": "h-yxIDVneQNY"
      },
      "outputs": [],
      "source": [
        "# Insertar cuantos bloques de código consideren necesarios\n",
        "\n",
        "# Realizar tarea de clasificación de datos orientado al caso entregado"
      ]
    },
    {
      "cell_type": "markdown",
      "metadata": {
        "id": "lkFTbqriH1vx"
      },
      "source": [
        "## Fase 5: Evaluation"
      ]
    },
    {
      "cell_type": "code",
      "execution_count": null,
      "metadata": {
        "id": "t_Dya779H3As"
      },
      "outputs": [],
      "source": [
        "# Insertar cuantos bloques de código consideren necesarios\n",
        "\n",
        "# Evaluar con las métricas que corresponda los mejores modelos, explicar cual es mejor para cada tarea y por qué"
      ]
    },
    {
      "cell_type": "markdown",
      "metadata": {
        "id": "Mo7mbKVRH8y4"
      },
      "source": [
        "## Fase 5: Deployment"
      ]
    },
    {
      "cell_type": "code",
      "execution_count": null,
      "metadata": {
        "id": "Nx4ot5vyfOSe"
      },
      "outputs": [],
      "source": [
        "# Insertar cuantos bloques de código consideren necesarios\n",
        "\n",
        "# Realizar despliegue del modelo"
      ]
    }
  ],
  "metadata": {
    "colab": {
      "provenance": [],
      "toc_visible": true
    },
    "kernelspec": {
      "display_name": "Python 3",
      "name": "python3"
    },
    "language_info": {
      "codemirror_mode": {
        "name": "ipython",
        "version": 3
      },
      "file_extension": ".py",
      "mimetype": "text/x-python",
      "name": "python",
      "nbconvert_exporter": "python",
      "pygments_lexer": "ipython3",
      "version": "3.10.6"
    }
  },
  "nbformat": 4,
  "nbformat_minor": 0
}
